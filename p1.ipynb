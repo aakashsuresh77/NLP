{
 "cells": [
  {
   "cell_type": "markdown",
   "metadata": {
    "id": "cYffZdXHmHjd"
   },
   "source": [
    "<table align=\"left\" width=100%>\n",
    "    <tr>\n",
    "        <td width=\"20%\">\n",
    "            <img src=\"faculty.png\">\n",
    "        </td>\n",
    "        <td>\n",
    "            <div align=\"center\">\n",
    "                <font color=\"#21618C\" size=8px>\n",
    "                  <b> Assignment Questions </b>\n",
    "                </font>\n",
    "            </div>\n",
    "        </td>\n",
    "    </tr>\n",
    "</table>"
   ]
  },
  {
   "cell_type": "markdown",
   "metadata": {
    "id": "NisFmsKamHjp"
   },
   "source": [
    "Total Marks:  30 Marks\n",
    "\n",
    "\n",
    "### About the data set (Movie_Reviews)\n",
    "\n",
    "The dataset contains Movie reviews. The aim of this assignment is to classsify the review texts into two categories. \n",
    "\n",
    "Attribute information: \n",
    " \n",
    "Dataset has two columns:\n",
    "Column1: Review Text\n",
    "Column2: Two Classes. Positive and negative."
   ]
  },
  {
   "cell_type": "markdown",
   "metadata": {
    "id": "lfwprmJMmHjr"
   },
   "source": [
    "## Table of Content\n",
    "\n",
    "1. **[Import Libraries](#lib)**\n",
    "2. **[Load the Data  (5 Marks)](#prep)**\n",
    "    - 2.1 - **[Read the Data   (1 Mark)](#read)**\n",
    "    - 2.2 - **[Dispay the first ten rows (1 Mark) ](#dtype)**\n",
    "    - 2.3 - **[Display the information about the data (1 Mark)](#drop)**\n",
    "    - 2.4 - **[Encode the sentiment column values as 1 or 0 (2 Marks)](#dummy)**\n",
    "3.  **[Data preprocessing  (7 Marks)](#prep)**\n",
    "    - 3.1 - **[Remove special characters and html tags (2 Marks)](#read)**\n",
    "    - 3.2 - **[Convert reviews into lowercase (1 Mark)](#dtype)**\n",
    "    - 3.3 - **[Removal of stop words (2 Marks)](#drop)**\n",
    "    - 3.4 - **[Apply stemming (2 Marks)](#dummy)**\n",
    "4.**[Convert review text into feature vector and classification (18 Marks)](#prep)**\n",
    "    - 4.1 - **[create BOW model (2 Marks)](#cut_off)**\n",
    "    - 4.2 - **[Training data and Test data -split  (1 Mark)](#dtype)**\n",
    "    - 4.3 - **[Define the Classification model (any one like NB, SVM or Random forest) train the model  (3 Marks) ](#drop)**\n",
    "    - 4.4 - **[Classification metrics analysis (2 Marks)](#dummy)**\n",
    "    - 4.5 - **[predict the class for your own review (2 Marks)](#dummy)**\n",
    "\n",
    "    - 4.6 - **[create feature vector using tf-idf  (2 Marks)](#cut_off)**\n",
    "    - 4.7 - **[Define the Classification model (any one like NB, SVM or Random forest) train the model (2 Marks)](#drop)**\n",
    "    - 4.8 - **[Classification metrics analysis (2 Marks)](#dummy)**\n",
    "    - 4.9 - **[predict the class for your own review (2 Marks) ](#dummy)**\n",
    "\n",
    "        "
   ]
  },
  {
   "cell_type": "markdown",
   "metadata": {
    "id": "0wV8M-lomHjs"
   },
   "source": [
    "<a id=\"lib\"></a>\n",
    "# 1. Import Libraries"
   ]
  },
  {
   "cell_type": "markdown",
   "metadata": {
    "id": "HF5D3CqhmHjs"
   },
   "source": [
    "**Let us import the required libraries.**"
   ]
  },
  {
   "cell_type": "code",
   "execution_count": 3,
   "metadata": {
    "id": "7Y2AHmx-mHjt"
   },
   "outputs": [],
   "source": [
    "import nltk\n",
    "from six import string_types\n",
    "from string import punctuation\n",
    "from nltk.corpus import stopwords\n",
    "from nltk import word_tokenize\n",
    "import numpy as np\n",
    "import pandas as pd\n",
    "from gensim.parsing.preprocessing import remove_stopwords,PorterStemmer\n",
    "from sklearn.model_selection import train_test_split\n",
    "from sklearn.feature_extraction.text import CountVectorizer, TfidfVectorizer\n",
    "from bs4 import BeautifulSoup\n",
    "from sklearn.naive_bayes import MultinomialNB\n",
    "from sklearn.metrics import confusion_matrix,accuracy_score,classification_report\n",
    "import seaborn as sns\n",
    "import warnings\n",
    "warnings.filterwarnings('ignore')\n"
   ]
  },
  {
   "cell_type": "markdown",
   "metadata": {
    "id": "0Cbu-UrzzpJg"
   },
   "source": [
    "2. Load the Data"
   ]
  },
  {
   "cell_type": "markdown",
   "metadata": {
    "id": "V6-Vk7n6z8X-"
   },
   "source": [
    "2.1 Read the data"
   ]
  },
  {
   "cell_type": "code",
   "execution_count": 4,
   "metadata": {
    "id": "mpmjR7BGzvIe"
   },
   "outputs": [
    {
     "ename": "FileNotFoundError",
     "evalue": "[Errno 2] No such file or directory: 'Movie_reviews.csv'",
     "output_type": "error",
     "traceback": [
      "\u001b[1;31m---------------------------------------------------------------------------\u001b[0m",
      "\u001b[1;31mFileNotFoundError\u001b[0m                         Traceback (most recent call last)",
      "Input \u001b[1;32mIn [4]\u001b[0m, in \u001b[0;36m<cell line: 1>\u001b[1;34m()\u001b[0m\n\u001b[1;32m----> 1\u001b[0m movie_reviews\u001b[38;5;241m=\u001b[39m\u001b[43mpd\u001b[49m\u001b[38;5;241;43m.\u001b[39;49m\u001b[43mread_csv\u001b[49m\u001b[43m(\u001b[49m\u001b[38;5;124;43m'\u001b[39;49m\u001b[38;5;124;43mMovie_reviews.csv\u001b[39;49m\u001b[38;5;124;43m'\u001b[39;49m\u001b[43m)\u001b[49m\n",
      "File \u001b[1;32m~\\AppData\\Local\\Programs\\Python\\Python310\\lib\\site-packages\\pandas\\util\\_decorators.py:311\u001b[0m, in \u001b[0;36mdeprecate_nonkeyword_arguments.<locals>.decorate.<locals>.wrapper\u001b[1;34m(*args, **kwargs)\u001b[0m\n\u001b[0;32m    305\u001b[0m \u001b[38;5;28;01mif\u001b[39;00m \u001b[38;5;28mlen\u001b[39m(args) \u001b[38;5;241m>\u001b[39m num_allow_args:\n\u001b[0;32m    306\u001b[0m     warnings\u001b[38;5;241m.\u001b[39mwarn(\n\u001b[0;32m    307\u001b[0m         msg\u001b[38;5;241m.\u001b[39mformat(arguments\u001b[38;5;241m=\u001b[39marguments),\n\u001b[0;32m    308\u001b[0m         \u001b[38;5;167;01mFutureWarning\u001b[39;00m,\n\u001b[0;32m    309\u001b[0m         stacklevel\u001b[38;5;241m=\u001b[39mstacklevel,\n\u001b[0;32m    310\u001b[0m     )\n\u001b[1;32m--> 311\u001b[0m \u001b[38;5;28;01mreturn\u001b[39;00m func(\u001b[38;5;241m*\u001b[39margs, \u001b[38;5;241m*\u001b[39m\u001b[38;5;241m*\u001b[39mkwargs)\n",
      "File \u001b[1;32m~\\AppData\\Local\\Programs\\Python\\Python310\\lib\\site-packages\\pandas\\io\\parsers\\readers.py:680\u001b[0m, in \u001b[0;36mread_csv\u001b[1;34m(filepath_or_buffer, sep, delimiter, header, names, index_col, usecols, squeeze, prefix, mangle_dupe_cols, dtype, engine, converters, true_values, false_values, skipinitialspace, skiprows, skipfooter, nrows, na_values, keep_default_na, na_filter, verbose, skip_blank_lines, parse_dates, infer_datetime_format, keep_date_col, date_parser, dayfirst, cache_dates, iterator, chunksize, compression, thousands, decimal, lineterminator, quotechar, quoting, doublequote, escapechar, comment, encoding, encoding_errors, dialect, error_bad_lines, warn_bad_lines, on_bad_lines, delim_whitespace, low_memory, memory_map, float_precision, storage_options)\u001b[0m\n\u001b[0;32m    665\u001b[0m kwds_defaults \u001b[38;5;241m=\u001b[39m _refine_defaults_read(\n\u001b[0;32m    666\u001b[0m     dialect,\n\u001b[0;32m    667\u001b[0m     delimiter,\n\u001b[1;32m   (...)\u001b[0m\n\u001b[0;32m    676\u001b[0m     defaults\u001b[38;5;241m=\u001b[39m{\u001b[38;5;124m\"\u001b[39m\u001b[38;5;124mdelimiter\u001b[39m\u001b[38;5;124m\"\u001b[39m: \u001b[38;5;124m\"\u001b[39m\u001b[38;5;124m,\u001b[39m\u001b[38;5;124m\"\u001b[39m},\n\u001b[0;32m    677\u001b[0m )\n\u001b[0;32m    678\u001b[0m kwds\u001b[38;5;241m.\u001b[39mupdate(kwds_defaults)\n\u001b[1;32m--> 680\u001b[0m \u001b[38;5;28;01mreturn\u001b[39;00m \u001b[43m_read\u001b[49m\u001b[43m(\u001b[49m\u001b[43mfilepath_or_buffer\u001b[49m\u001b[43m,\u001b[49m\u001b[43m \u001b[49m\u001b[43mkwds\u001b[49m\u001b[43m)\u001b[49m\n",
      "File \u001b[1;32m~\\AppData\\Local\\Programs\\Python\\Python310\\lib\\site-packages\\pandas\\io\\parsers\\readers.py:575\u001b[0m, in \u001b[0;36m_read\u001b[1;34m(filepath_or_buffer, kwds)\u001b[0m\n\u001b[0;32m    572\u001b[0m _validate_names(kwds\u001b[38;5;241m.\u001b[39mget(\u001b[38;5;124m\"\u001b[39m\u001b[38;5;124mnames\u001b[39m\u001b[38;5;124m\"\u001b[39m, \u001b[38;5;28;01mNone\u001b[39;00m))\n\u001b[0;32m    574\u001b[0m \u001b[38;5;66;03m# Create the parser.\u001b[39;00m\n\u001b[1;32m--> 575\u001b[0m parser \u001b[38;5;241m=\u001b[39m TextFileReader(filepath_or_buffer, \u001b[38;5;241m*\u001b[39m\u001b[38;5;241m*\u001b[39mkwds)\n\u001b[0;32m    577\u001b[0m \u001b[38;5;28;01mif\u001b[39;00m chunksize \u001b[38;5;129;01mor\u001b[39;00m iterator:\n\u001b[0;32m    578\u001b[0m     \u001b[38;5;28;01mreturn\u001b[39;00m parser\n",
      "File \u001b[1;32m~\\AppData\\Local\\Programs\\Python\\Python310\\lib\\site-packages\\pandas\\io\\parsers\\readers.py:934\u001b[0m, in \u001b[0;36mTextFileReader.__init__\u001b[1;34m(self, f, engine, **kwds)\u001b[0m\n\u001b[0;32m    931\u001b[0m     \u001b[38;5;28mself\u001b[39m\u001b[38;5;241m.\u001b[39moptions[\u001b[38;5;124m\"\u001b[39m\u001b[38;5;124mhas_index_names\u001b[39m\u001b[38;5;124m\"\u001b[39m] \u001b[38;5;241m=\u001b[39m kwds[\u001b[38;5;124m\"\u001b[39m\u001b[38;5;124mhas_index_names\u001b[39m\u001b[38;5;124m\"\u001b[39m]\n\u001b[0;32m    933\u001b[0m \u001b[38;5;28mself\u001b[39m\u001b[38;5;241m.\u001b[39mhandles: IOHandles \u001b[38;5;241m|\u001b[39m \u001b[38;5;28;01mNone\u001b[39;00m \u001b[38;5;241m=\u001b[39m \u001b[38;5;28;01mNone\u001b[39;00m\n\u001b[1;32m--> 934\u001b[0m \u001b[38;5;28mself\u001b[39m\u001b[38;5;241m.\u001b[39m_engine \u001b[38;5;241m=\u001b[39m \u001b[38;5;28;43mself\u001b[39;49m\u001b[38;5;241;43m.\u001b[39;49m\u001b[43m_make_engine\u001b[49m\u001b[43m(\u001b[49m\u001b[43mf\u001b[49m\u001b[43m,\u001b[49m\u001b[43m \u001b[49m\u001b[38;5;28;43mself\u001b[39;49m\u001b[38;5;241;43m.\u001b[39;49m\u001b[43mengine\u001b[49m\u001b[43m)\u001b[49m\n",
      "File \u001b[1;32m~\\AppData\\Local\\Programs\\Python\\Python310\\lib\\site-packages\\pandas\\io\\parsers\\readers.py:1218\u001b[0m, in \u001b[0;36mTextFileReader._make_engine\u001b[1;34m(self, f, engine)\u001b[0m\n\u001b[0;32m   1214\u001b[0m     mode \u001b[38;5;241m=\u001b[39m \u001b[38;5;124m\"\u001b[39m\u001b[38;5;124mrb\u001b[39m\u001b[38;5;124m\"\u001b[39m\n\u001b[0;32m   1215\u001b[0m \u001b[38;5;66;03m# error: No overload variant of \"get_handle\" matches argument types\u001b[39;00m\n\u001b[0;32m   1216\u001b[0m \u001b[38;5;66;03m# \"Union[str, PathLike[str], ReadCsvBuffer[bytes], ReadCsvBuffer[str]]\"\u001b[39;00m\n\u001b[0;32m   1217\u001b[0m \u001b[38;5;66;03m# , \"str\", \"bool\", \"Any\", \"Any\", \"Any\", \"Any\", \"Any\"\u001b[39;00m\n\u001b[1;32m-> 1218\u001b[0m \u001b[38;5;28mself\u001b[39m\u001b[38;5;241m.\u001b[39mhandles \u001b[38;5;241m=\u001b[39m \u001b[43mget_handle\u001b[49m\u001b[43m(\u001b[49m\u001b[43m  \u001b[49m\u001b[38;5;66;43;03m# type: ignore[call-overload]\u001b[39;49;00m\n\u001b[0;32m   1219\u001b[0m \u001b[43m    \u001b[49m\u001b[43mf\u001b[49m\u001b[43m,\u001b[49m\n\u001b[0;32m   1220\u001b[0m \u001b[43m    \u001b[49m\u001b[43mmode\u001b[49m\u001b[43m,\u001b[49m\n\u001b[0;32m   1221\u001b[0m \u001b[43m    \u001b[49m\u001b[43mencoding\u001b[49m\u001b[38;5;241;43m=\u001b[39;49m\u001b[38;5;28;43mself\u001b[39;49m\u001b[38;5;241;43m.\u001b[39;49m\u001b[43moptions\u001b[49m\u001b[38;5;241;43m.\u001b[39;49m\u001b[43mget\u001b[49m\u001b[43m(\u001b[49m\u001b[38;5;124;43m\"\u001b[39;49m\u001b[38;5;124;43mencoding\u001b[39;49m\u001b[38;5;124;43m\"\u001b[39;49m\u001b[43m,\u001b[49m\u001b[43m \u001b[49m\u001b[38;5;28;43;01mNone\u001b[39;49;00m\u001b[43m)\u001b[49m\u001b[43m,\u001b[49m\n\u001b[0;32m   1222\u001b[0m \u001b[43m    \u001b[49m\u001b[43mcompression\u001b[49m\u001b[38;5;241;43m=\u001b[39;49m\u001b[38;5;28;43mself\u001b[39;49m\u001b[38;5;241;43m.\u001b[39;49m\u001b[43moptions\u001b[49m\u001b[38;5;241;43m.\u001b[39;49m\u001b[43mget\u001b[49m\u001b[43m(\u001b[49m\u001b[38;5;124;43m\"\u001b[39;49m\u001b[38;5;124;43mcompression\u001b[39;49m\u001b[38;5;124;43m\"\u001b[39;49m\u001b[43m,\u001b[49m\u001b[43m \u001b[49m\u001b[38;5;28;43;01mNone\u001b[39;49;00m\u001b[43m)\u001b[49m\u001b[43m,\u001b[49m\n\u001b[0;32m   1223\u001b[0m \u001b[43m    \u001b[49m\u001b[43mmemory_map\u001b[49m\u001b[38;5;241;43m=\u001b[39;49m\u001b[38;5;28;43mself\u001b[39;49m\u001b[38;5;241;43m.\u001b[39;49m\u001b[43moptions\u001b[49m\u001b[38;5;241;43m.\u001b[39;49m\u001b[43mget\u001b[49m\u001b[43m(\u001b[49m\u001b[38;5;124;43m\"\u001b[39;49m\u001b[38;5;124;43mmemory_map\u001b[39;49m\u001b[38;5;124;43m\"\u001b[39;49m\u001b[43m,\u001b[49m\u001b[43m \u001b[49m\u001b[38;5;28;43;01mFalse\u001b[39;49;00m\u001b[43m)\u001b[49m\u001b[43m,\u001b[49m\n\u001b[0;32m   1224\u001b[0m \u001b[43m    \u001b[49m\u001b[43mis_text\u001b[49m\u001b[38;5;241;43m=\u001b[39;49m\u001b[43mis_text\u001b[49m\u001b[43m,\u001b[49m\n\u001b[0;32m   1225\u001b[0m \u001b[43m    \u001b[49m\u001b[43merrors\u001b[49m\u001b[38;5;241;43m=\u001b[39;49m\u001b[38;5;28;43mself\u001b[39;49m\u001b[38;5;241;43m.\u001b[39;49m\u001b[43moptions\u001b[49m\u001b[38;5;241;43m.\u001b[39;49m\u001b[43mget\u001b[49m\u001b[43m(\u001b[49m\u001b[38;5;124;43m\"\u001b[39;49m\u001b[38;5;124;43mencoding_errors\u001b[39;49m\u001b[38;5;124;43m\"\u001b[39;49m\u001b[43m,\u001b[49m\u001b[43m \u001b[49m\u001b[38;5;124;43m\"\u001b[39;49m\u001b[38;5;124;43mstrict\u001b[39;49m\u001b[38;5;124;43m\"\u001b[39;49m\u001b[43m)\u001b[49m\u001b[43m,\u001b[49m\n\u001b[0;32m   1226\u001b[0m \u001b[43m    \u001b[49m\u001b[43mstorage_options\u001b[49m\u001b[38;5;241;43m=\u001b[39;49m\u001b[38;5;28;43mself\u001b[39;49m\u001b[38;5;241;43m.\u001b[39;49m\u001b[43moptions\u001b[49m\u001b[38;5;241;43m.\u001b[39;49m\u001b[43mget\u001b[49m\u001b[43m(\u001b[49m\u001b[38;5;124;43m\"\u001b[39;49m\u001b[38;5;124;43mstorage_options\u001b[39;49m\u001b[38;5;124;43m\"\u001b[39;49m\u001b[43m,\u001b[49m\u001b[43m \u001b[49m\u001b[38;5;28;43;01mNone\u001b[39;49;00m\u001b[43m)\u001b[49m\u001b[43m,\u001b[49m\n\u001b[0;32m   1227\u001b[0m \u001b[43m\u001b[49m\u001b[43m)\u001b[49m\n\u001b[0;32m   1228\u001b[0m \u001b[38;5;28;01massert\u001b[39;00m \u001b[38;5;28mself\u001b[39m\u001b[38;5;241m.\u001b[39mhandles \u001b[38;5;129;01mis\u001b[39;00m \u001b[38;5;129;01mnot\u001b[39;00m \u001b[38;5;28;01mNone\u001b[39;00m\n\u001b[0;32m   1229\u001b[0m f \u001b[38;5;241m=\u001b[39m \u001b[38;5;28mself\u001b[39m\u001b[38;5;241m.\u001b[39mhandles\u001b[38;5;241m.\u001b[39mhandle\n",
      "File \u001b[1;32m~\\AppData\\Local\\Programs\\Python\\Python310\\lib\\site-packages\\pandas\\io\\common.py:786\u001b[0m, in \u001b[0;36mget_handle\u001b[1;34m(path_or_buf, mode, encoding, compression, memory_map, is_text, errors, storage_options)\u001b[0m\n\u001b[0;32m    781\u001b[0m \u001b[38;5;28;01melif\u001b[39;00m \u001b[38;5;28misinstance\u001b[39m(handle, \u001b[38;5;28mstr\u001b[39m):\n\u001b[0;32m    782\u001b[0m     \u001b[38;5;66;03m# Check whether the filename is to be opened in binary mode.\u001b[39;00m\n\u001b[0;32m    783\u001b[0m     \u001b[38;5;66;03m# Binary mode does not support 'encoding' and 'newline'.\u001b[39;00m\n\u001b[0;32m    784\u001b[0m     \u001b[38;5;28;01mif\u001b[39;00m ioargs\u001b[38;5;241m.\u001b[39mencoding \u001b[38;5;129;01mand\u001b[39;00m \u001b[38;5;124m\"\u001b[39m\u001b[38;5;124mb\u001b[39m\u001b[38;5;124m\"\u001b[39m \u001b[38;5;129;01mnot\u001b[39;00m \u001b[38;5;129;01min\u001b[39;00m ioargs\u001b[38;5;241m.\u001b[39mmode:\n\u001b[0;32m    785\u001b[0m         \u001b[38;5;66;03m# Encoding\u001b[39;00m\n\u001b[1;32m--> 786\u001b[0m         handle \u001b[38;5;241m=\u001b[39m \u001b[38;5;28;43mopen\u001b[39;49m\u001b[43m(\u001b[49m\n\u001b[0;32m    787\u001b[0m \u001b[43m            \u001b[49m\u001b[43mhandle\u001b[49m\u001b[43m,\u001b[49m\n\u001b[0;32m    788\u001b[0m \u001b[43m            \u001b[49m\u001b[43mioargs\u001b[49m\u001b[38;5;241;43m.\u001b[39;49m\u001b[43mmode\u001b[49m\u001b[43m,\u001b[49m\n\u001b[0;32m    789\u001b[0m \u001b[43m            \u001b[49m\u001b[43mencoding\u001b[49m\u001b[38;5;241;43m=\u001b[39;49m\u001b[43mioargs\u001b[49m\u001b[38;5;241;43m.\u001b[39;49m\u001b[43mencoding\u001b[49m\u001b[43m,\u001b[49m\n\u001b[0;32m    790\u001b[0m \u001b[43m            \u001b[49m\u001b[43merrors\u001b[49m\u001b[38;5;241;43m=\u001b[39;49m\u001b[43merrors\u001b[49m\u001b[43m,\u001b[49m\n\u001b[0;32m    791\u001b[0m \u001b[43m            \u001b[49m\u001b[43mnewline\u001b[49m\u001b[38;5;241;43m=\u001b[39;49m\u001b[38;5;124;43m\"\u001b[39;49m\u001b[38;5;124;43m\"\u001b[39;49m\u001b[43m,\u001b[49m\n\u001b[0;32m    792\u001b[0m \u001b[43m        \u001b[49m\u001b[43m)\u001b[49m\n\u001b[0;32m    793\u001b[0m     \u001b[38;5;28;01melse\u001b[39;00m:\n\u001b[0;32m    794\u001b[0m         \u001b[38;5;66;03m# Binary mode\u001b[39;00m\n\u001b[0;32m    795\u001b[0m         handle \u001b[38;5;241m=\u001b[39m \u001b[38;5;28mopen\u001b[39m(handle, ioargs\u001b[38;5;241m.\u001b[39mmode)\n",
      "\u001b[1;31mFileNotFoundError\u001b[0m: [Errno 2] No such file or directory: 'Movie_reviews.csv'"
     ]
    }
   ],
   "source": [
    "movie_reviews=pd.read_csv('Movie_reviews.csv')"
   ]
  },
  {
   "cell_type": "code",
   "execution_count": 1,
   "metadata": {},
   "outputs": [
    {
     "ename": "NameError",
     "evalue": "name 'movie_reviews' is not defined",
     "output_type": "error",
     "traceback": [
      "\u001b[1;31m---------------------------------------------------------------------------\u001b[0m",
      "\u001b[1;31mNameError\u001b[0m                                 Traceback (most recent call last)",
      "Input \u001b[1;32mIn [1]\u001b[0m, in \u001b[0;36m<cell line: 1>\u001b[1;34m()\u001b[0m\n\u001b[1;32m----> 1\u001b[0m \u001b[38;5;28mtype\u001b[39m(\u001b[43mmovie_reviews\u001b[49m)\n",
      "\u001b[1;31mNameError\u001b[0m: name 'movie_reviews' is not defined"
     ]
    }
   ],
   "source": [
    "type(movie_reviews)"
   ]
  },
  {
   "cell_type": "markdown",
   "metadata": {
    "id": "9c77n7WMz_o9"
   },
   "source": [
    "2.2 Dispay the first ten rows"
   ]
  },
  {
   "cell_type": "code",
   "execution_count": 3,
   "metadata": {
    "id": "6ikzUby10TaB"
   },
   "outputs": [
    {
     "data": {
      "text/html": [
       "<div>\n",
       "<style scoped>\n",
       "    .dataframe tbody tr th:only-of-type {\n",
       "        vertical-align: middle;\n",
       "    }\n",
       "\n",
       "    .dataframe tbody tr th {\n",
       "        vertical-align: top;\n",
       "    }\n",
       "\n",
       "    .dataframe thead th {\n",
       "        text-align: right;\n",
       "    }\n",
       "</style>\n",
       "<table border=\"1\" class=\"dataframe\">\n",
       "  <thead>\n",
       "    <tr style=\"text-align: right;\">\n",
       "      <th></th>\n",
       "      <th>review</th>\n",
       "      <th>sentiment</th>\n",
       "    </tr>\n",
       "  </thead>\n",
       "  <tbody>\n",
       "    <tr>\n",
       "      <th>0</th>\n",
       "      <td>One of the other reviewers has mentioned that ...</td>\n",
       "      <td>positive</td>\n",
       "    </tr>\n",
       "    <tr>\n",
       "      <th>1</th>\n",
       "      <td>A wonderful little production. &lt;br /&gt;&lt;br /&gt;The...</td>\n",
       "      <td>positive</td>\n",
       "    </tr>\n",
       "    <tr>\n",
       "      <th>2</th>\n",
       "      <td>I thought this was a wonderful way to spend ti...</td>\n",
       "      <td>positive</td>\n",
       "    </tr>\n",
       "    <tr>\n",
       "      <th>3</th>\n",
       "      <td>Basically there's a family where a little boy ...</td>\n",
       "      <td>negative</td>\n",
       "    </tr>\n",
       "    <tr>\n",
       "      <th>4</th>\n",
       "      <td>Petter Mattei's \"Love in the Time of Money\" is...</td>\n",
       "      <td>positive</td>\n",
       "    </tr>\n",
       "    <tr>\n",
       "      <th>5</th>\n",
       "      <td>Probably my all-time favorite movie, a story o...</td>\n",
       "      <td>positive</td>\n",
       "    </tr>\n",
       "    <tr>\n",
       "      <th>6</th>\n",
       "      <td>I sure would like to see a resurrection of a u...</td>\n",
       "      <td>positive</td>\n",
       "    </tr>\n",
       "    <tr>\n",
       "      <th>7</th>\n",
       "      <td>This show was an amazing, fresh &amp; innovative i...</td>\n",
       "      <td>negative</td>\n",
       "    </tr>\n",
       "    <tr>\n",
       "      <th>8</th>\n",
       "      <td>Encouraged by the positive comments about this...</td>\n",
       "      <td>negative</td>\n",
       "    </tr>\n",
       "    <tr>\n",
       "      <th>9</th>\n",
       "      <td>If you like original gut wrenching laughter yo...</td>\n",
       "      <td>positive</td>\n",
       "    </tr>\n",
       "  </tbody>\n",
       "</table>\n",
       "</div>"
      ],
      "text/plain": [
       "                                              review sentiment\n",
       "0  One of the other reviewers has mentioned that ...  positive\n",
       "1  A wonderful little production. <br /><br />The...  positive\n",
       "2  I thought this was a wonderful way to spend ti...  positive\n",
       "3  Basically there's a family where a little boy ...  negative\n",
       "4  Petter Mattei's \"Love in the Time of Money\" is...  positive\n",
       "5  Probably my all-time favorite movie, a story o...  positive\n",
       "6  I sure would like to see a resurrection of a u...  positive\n",
       "7  This show was an amazing, fresh & innovative i...  negative\n",
       "8  Encouraged by the positive comments about this...  negative\n",
       "9  If you like original gut wrenching laughter yo...  positive"
      ]
     },
     "execution_count": 3,
     "metadata": {},
     "output_type": "execute_result"
    }
   ],
   "source": [
    "movie_reviews.head(10)"
   ]
  },
  {
   "cell_type": "markdown",
   "metadata": {
    "id": "dwlaQfbA0FtG"
   },
   "source": [
    "2.3 Display the information about the data"
   ]
  },
  {
   "cell_type": "code",
   "execution_count": 4,
   "metadata": {
    "id": "as7IjoItz1Px"
   },
   "outputs": [
    {
     "name": "stdout",
     "output_type": "stream",
     "text": [
      "<class 'pandas.core.frame.DataFrame'>\n",
      "RangeIndex: 50000 entries, 0 to 49999\n",
      "Data columns (total 2 columns):\n",
      " #   Column     Non-Null Count  Dtype \n",
      "---  ------     --------------  ----- \n",
      " 0   review     50000 non-null  object\n",
      " 1   sentiment  50000 non-null  object\n",
      "dtypes: object(2)\n",
      "memory usage: 781.4+ KB\n"
     ]
    }
   ],
   "source": [
    "movie_reviews.info()"
   ]
  },
  {
   "cell_type": "markdown",
   "metadata": {
    "id": "lw4qNA-p0JfW"
   },
   "source": [
    "2.4   Encode the sentiment column values as 1 or 0"
   ]
  },
  {
   "cell_type": "code",
   "execution_count": 5,
   "metadata": {
    "id": "9dYvIFp6z1gW"
   },
   "outputs": [
    {
     "data": {
      "text/html": [
       "<div>\n",
       "<style scoped>\n",
       "    .dataframe tbody tr th:only-of-type {\n",
       "        vertical-align: middle;\n",
       "    }\n",
       "\n",
       "    .dataframe tbody tr th {\n",
       "        vertical-align: top;\n",
       "    }\n",
       "\n",
       "    .dataframe thead th {\n",
       "        text-align: right;\n",
       "    }\n",
       "</style>\n",
       "<table border=\"1\" class=\"dataframe\">\n",
       "  <thead>\n",
       "    <tr style=\"text-align: right;\">\n",
       "      <th></th>\n",
       "      <th>positive</th>\n",
       "    </tr>\n",
       "  </thead>\n",
       "  <tbody>\n",
       "    <tr>\n",
       "      <th>0</th>\n",
       "      <td>1</td>\n",
       "    </tr>\n",
       "    <tr>\n",
       "      <th>1</th>\n",
       "      <td>1</td>\n",
       "    </tr>\n",
       "    <tr>\n",
       "      <th>2</th>\n",
       "      <td>1</td>\n",
       "    </tr>\n",
       "    <tr>\n",
       "      <th>3</th>\n",
       "      <td>0</td>\n",
       "    </tr>\n",
       "    <tr>\n",
       "      <th>4</th>\n",
       "      <td>1</td>\n",
       "    </tr>\n",
       "    <tr>\n",
       "      <th>...</th>\n",
       "      <td>...</td>\n",
       "    </tr>\n",
       "    <tr>\n",
       "      <th>49995</th>\n",
       "      <td>1</td>\n",
       "    </tr>\n",
       "    <tr>\n",
       "      <th>49996</th>\n",
       "      <td>0</td>\n",
       "    </tr>\n",
       "    <tr>\n",
       "      <th>49997</th>\n",
       "      <td>0</td>\n",
       "    </tr>\n",
       "    <tr>\n",
       "      <th>49998</th>\n",
       "      <td>0</td>\n",
       "    </tr>\n",
       "    <tr>\n",
       "      <th>49999</th>\n",
       "      <td>0</td>\n",
       "    </tr>\n",
       "  </tbody>\n",
       "</table>\n",
       "<p>50000 rows × 1 columns</p>\n",
       "</div>"
      ],
      "text/plain": [
       "       positive\n",
       "0             1\n",
       "1             1\n",
       "2             1\n",
       "3             0\n",
       "4             1\n",
       "...         ...\n",
       "49995         1\n",
       "49996         0\n",
       "49997         0\n",
       "49998         0\n",
       "49999         0\n",
       "\n",
       "[50000 rows x 1 columns]"
      ]
     },
     "execution_count": 5,
     "metadata": {},
     "output_type": "execute_result"
    }
   ],
   "source": [
    "y=pd.get_dummies(movie_reviews['sentiment'],drop_first=True)\n",
    "y"
   ]
  },
  {
   "cell_type": "markdown",
   "metadata": {
    "id": "riUOzf5-0rvK"
   },
   "source": [
    "3.  Data preprocessing"
   ]
  },
  {
   "cell_type": "markdown",
   "metadata": {
    "id": "NwWFwlWe0u30"
   },
   "source": [
    "3.1 Remove special characters and html tags"
   ]
  },
  {
   "cell_type": "code",
   "execution_count": 6,
   "metadata": {
    "id": "Z0nOjVZTz1rv"
   },
   "outputs": [
    {
     "data": {
      "text/plain": [
       "0        One of the other reviewers has mentioned that ...\n",
       "1        A wonderful little production The filming tech...\n",
       "2        I thought this was a wonderful way to spend ti...\n",
       "3        Basically theres a family where a little boy J...\n",
       "4        Petter Matteis Love in the Time of Money is a ...\n",
       "                               ...                        \n",
       "49995    I thought this movie did a down right good job...\n",
       "49996    Bad plot bad dialogue bad acting idiotic direc...\n",
       "49997    I am a Catholic taught in parochial elementary...\n",
       "49998    Im going to have to disagree with the previous...\n",
       "49999    No one expects the Star Trek movies to be high...\n",
       "Name: review, Length: 50000, dtype: object"
      ]
     },
     "execution_count": 6,
     "metadata": {},
     "output_type": "execute_result"
    }
   ],
   "source": [
    "##  remove special character and html tags\n",
    "reviews_html_removed=movie_reviews['review'].str.replace('<.*?>', '')\n",
    "messages = reviews_html_removed.str.replace('[^a-zA-Z\\s]', '')\n",
    "messages\n"
   ]
  },
  {
   "cell_type": "markdown",
   "metadata": {
    "id": "Q77N0hdq01i3"
   },
   "source": [
    "3.2 - Convert reviews into lowercase"
   ]
  },
  {
   "cell_type": "code",
   "execution_count": 7,
   "metadata": {
    "id": "GQS9y4zF0m7d"
   },
   "outputs": [
    {
     "data": {
      "text/plain": [
       "0        one of the other reviewers has mentioned that ...\n",
       "1        a wonderful little production the filming tech...\n",
       "2        i thought this was a wonderful way to spend ti...\n",
       "3        basically theres a family where a little boy j...\n",
       "4        petter matteis love in the time of money is a ...\n",
       "                               ...                        \n",
       "49995    i thought this movie did a down right good job...\n",
       "49996    bad plot bad dialogue bad acting idiotic direc...\n",
       "49997    i am a catholic taught in parochial elementary...\n",
       "49998    im going to have to disagree with the previous...\n",
       "49999    no one expects the star trek movies to be high...\n",
       "Name: review, Length: 50000, dtype: object"
      ]
     },
     "execution_count": 7,
     "metadata": {},
     "output_type": "execute_result"
    }
   ],
   "source": [
    "messages=messages.str.lower()\n",
    "messages"
   ]
  },
  {
   "cell_type": "markdown",
   "metadata": {
    "id": "s4yqhrRo06vs"
   },
   "source": [
    "3.3 - Removal of stop words"
   ]
  },
  {
   "cell_type": "code",
   "execution_count": 8,
   "metadata": {
    "id": "ifyMcKx50-_P"
   },
   "outputs": [],
   "source": [
    "docs = messages.apply(remove_stopwords)"
   ]
  },
  {
   "cell_type": "code",
   "execution_count": 9,
   "metadata": {},
   "outputs": [
    {
     "data": {
      "text/plain": [
       "0        reviewers mentioned watching oz episode youll ...\n",
       "1        wonderful little production filming technique ...\n",
       "2        thought wonderful way spend time hot summer we...\n",
       "3        basically theres family little boy jake thinks...\n",
       "4        petter matteis love time money visually stunni...\n",
       "                               ...                        \n",
       "49995    thought movie right good job wasnt creative or...\n",
       "49996    bad plot bad dialogue bad acting idiotic direc...\n",
       "49997    catholic taught parochial elementary schools n...\n",
       "49998    im going disagree previous comment maltin seco...\n",
       "49999    expects star trek movies high art fans expect ...\n",
       "Name: review, Length: 50000, dtype: object"
      ]
     },
     "execution_count": 9,
     "metadata": {},
     "output_type": "execute_result"
    }
   ],
   "source": [
    "docs"
   ]
  },
  {
   "cell_type": "markdown",
   "metadata": {
    "id": "0nBGJIM50_jy"
   },
   "source": [
    "3.4 - Apply stemming"
   ]
  },
  {
   "cell_type": "code",
   "execution_count": 10,
   "metadata": {},
   "outputs": [],
   "source": [
    "ps = PorterStemmer()\n",
    "docs = ps.stem_documents(docs)"
   ]
  },
  {
   "cell_type": "markdown",
   "metadata": {},
   "source": [
    "We have used PorterStemmer, which is a process for removing the commoner morphological and inflexional endings from words in English."
   ]
  },
  {
   "cell_type": "markdown",
   "metadata": {
    "id": "mGrTE65k1DrN"
   },
   "source": [
    "4.  Convert review text into feature vector and classification"
   ]
  },
  {
   "cell_type": "markdown",
   "metadata": {
    "id": "GrPSrWZH1Wlk"
   },
   "source": [
    "4.1 - create BOW model "
   ]
  },
  {
   "cell_type": "markdown",
   "metadata": {},
   "source": [
    "Count vectorizer means breaking down a sentence or any texts into words by performing preprocessing tasks like converting all words to lowercase,thus removing special characters."
   ]
  },
  {
   "cell_type": "code",
   "execution_count": 11,
   "metadata": {
    "id": "0-j-jbt51aFL"
   },
   "outputs": [],
   "source": [
    "# Creating the Bag of Words model\n",
    "cv = CountVectorizer(max_features=3500)\n",
    "X = cv.fit_transform(docs).toarray()"
   ]
  },
  {
   "cell_type": "markdown",
   "metadata": {
    "id": "FQoRL8FO1auR"
   },
   "source": [
    "4.2 - Training data and Test data -split"
   ]
  },
  {
   "cell_type": "code",
   "execution_count": 12,
   "metadata": {
    "id": "EBCsPsUr1eD8"
   },
   "outputs": [],
   "source": [
    "X_train, X_test, y_train, y_test = train_test_split(X, y, test_size = 0.20, random_state = 0)"
   ]
  },
  {
   "cell_type": "code",
   "execution_count": 13,
   "metadata": {},
   "outputs": [
    {
     "data": {
      "text/plain": [
       "(40000, 3500)"
      ]
     },
     "execution_count": 13,
     "metadata": {},
     "output_type": "execute_result"
    }
   ],
   "source": [
    "X_train.shape"
   ]
  },
  {
   "cell_type": "markdown",
   "metadata": {
    "id": "2hEad1Qn1epR"
   },
   "source": [
    "4.3 - Define the Classification model (any one like NB, SVM or Random forest) train the model"
   ]
  },
  {
   "cell_type": "code",
   "execution_count": 14,
   "metadata": {
    "id": "MDskreiZ1jqb"
   },
   "outputs": [],
   "source": [
    "# Training model using Naive bayes classifier\n",
    "review_classify_model = MultinomialNB().fit(X_train, y_train)\n"
   ]
  },
  {
   "cell_type": "code",
   "execution_count": null,
   "metadata": {},
   "outputs": [],
   "source": [
    "\n",
    "\n",
    "Total mails -12\n",
    "spam - 4 p(spam) - 4/12 - 0.3\n",
    "NOt spam - 8 - p(non spam) - 8/12 - 0.7\n",
    "Dear - 17/50 - 0.6 (non spam) p(dear)\n",
    "Dear - 3/50 - 0.1 (spam) p(dear)\n",
    "friend - 0/50 - 0.8 (non spam) p(friend)\n",
    "friend - 2/50 - 0.2 (spam) p(firend)\n",
    "\n",
    "\n",
    "\n",
    "Dear Friend\n",
    "0.1*0.2*0.3 = 0.006 - spam\n",
    "Dear Friend\n",
    "0.7 *0* 0.6 = 0 - Non Spam\n"
   ]
  },
  {
   "cell_type": "markdown",
   "metadata": {
    "id": "IUDSEr6I1kCh"
   },
   "source": [
    "4.4  Classification metrics analysis and plot the confusion matrix"
   ]
  },
  {
   "cell_type": "code",
   "execution_count": 15,
   "metadata": {},
   "outputs": [
    {
     "name": "stdout",
     "output_type": "stream",
     "text": [
      "Training performance\n",
      "Training accuracy score 0.843\n",
      "              precision    recall  f1-score   support\n",
      "\n",
      "           0       0.84      0.85      0.84     19965\n",
      "           1       0.85      0.84      0.84     20035\n",
      "\n",
      "    accuracy                           0.84     40000\n",
      "   macro avg       0.84      0.84      0.84     40000\n",
      "weighted avg       0.84      0.84      0.84     40000\n",
      "\n",
      "confusion_matrix [[16917  3048]\n",
      " [ 3231 16804]]\n"
     ]
    },
    {
     "data": {
      "text/plain": [
       "<AxesSubplot:>"
      ]
     },
     "execution_count": 15,
     "metadata": {},
     "output_type": "execute_result"
    },
    {
     "data": {
      "image/png": "[encoded data removed]",
      "text/plain": [
       "<Figure size 432x288 with 2 Axes>"
      ]
     },
     "metadata": {
      "needs_background": "light"
     },
     "output_type": "display_data"
    }
   ],
   "source": [
    "# training data performance metrics\n",
    "ypred_train=review_classify_model.predict(X_train)\n",
    "\n",
    "print(\"Training performance\")\n",
    "print(\"Training accuracy score %.3f\" % accuracy_score(y_train,ypred_train))\n",
    "print(classification_report(y_train,ypred_train))\n",
    "print('confusion_matrix',confusion_matrix(y_train,ypred_train))\n",
    "sns.heatmap(confusion_matrix(y_train,ypred_train),annot=True,fmt=\".4g\")"
   ]
  },
  {
   "cell_type": "code",
   "execution_count": 16,
   "metadata": {},
   "outputs": [
    {
     "name": "stdout",
     "output_type": "stream",
     "text": [
      "Testing performance\n",
      "Testing accuracy score 0.831\n",
      "              precision    recall  f1-score   support\n",
      "\n",
      "           0       0.83      0.84      0.83      5035\n",
      "           1       0.83      0.83      0.83      4965\n",
      "\n",
      "    accuracy                           0.83     10000\n",
      "   macro avg       0.83      0.83      0.83     10000\n",
      "weighted avg       0.83      0.83      0.83     10000\n",
      "\n",
      "confusion_matrix [[4214  821]\n",
      " [ 865 4100]]\n"
     ]
    },
    {
     "data": {
      "text/plain": [
       "<AxesSubplot:>"
      ]
     },
     "execution_count": 16,
     "metadata": {},
     "output_type": "execute_result"
    },
    {
     "data": {
      "image/png": "[encoded data removed]",
      "text/plain": [
       "<Figure size 432x288 with 2 Axes>"
      ]
     },
     "metadata": {
      "needs_background": "light"
     },
     "output_type": "display_data"
    }
   ],
   "source": [
    "# testing accuarcy\n",
    "\n",
    "ypred_test=review_classify_model.predict(X_test)\n",
    "\n",
    "print(\"Testing performance\")\n",
    "print(\"Testing accuracy score %.3f\" % accuracy_score(y_test,ypred_test))\n",
    "print(classification_report(y_test,ypred_test))\n",
    "print('confusion_matrix',confusion_matrix(y_test,ypred_test))\n",
    "sns.heatmap(confusion_matrix(y_test,ypred_test),annot=True,fmt=\".4g\")\n",
    "\n"
   ]
  },
  {
   "cell_type": "markdown",
   "metadata": {},
   "source": [
    "Inference:\n",
    "    \n",
    "    In train data 84% cases where model has predicted the reviews as negative sentiment were correct and 85% cases where \n",
    "    model has predicted the reviews as positive sentiment were correct.\n",
    "    \n",
    "    In test data 83% cases where model has predicted the reviews as negative sentiment were correct and 83% cases where \n",
    "    model has predicted the reviews as positive sentiment were correct.\n",
    "    \n",
    "    Using the confusion matrix, True positive, False Positive,True Negative, False Negative  can be extracted.\n",
    "    \n",
    "    Accuracy score seems to be good in both training and testing data and it is good model. There is no overfitting and             underfitting model issue.\n",
    "    \n",
    "    Both train and test data have nearly same accuracy level of 0.83.\n",
    "    \n",
    "  "
   ]
  },
  {
   "cell_type": "markdown",
   "metadata": {
    "id": "fG118sNZ1tWW"
   },
   "source": [
    "4.5 - predict the class for your own review"
   ]
  },
  {
   "cell_type": "markdown",
   "metadata": {
    "id": "xgo2bgfUAnHz"
   },
   "source": [
    "4.6 - create feature vector using tf-idf"
   ]
  },
  {
   "cell_type": "markdown",
   "metadata": {},
   "source": [
    "TF-IDF vectorizer: \n",
    "    It is calculating the TF-IDF score for every word in the corpus relative to the document and then putting that information into a vector."
   ]
  },
  {
   "cell_type": "code",
   "execution_count": 17,
   "metadata": {
    "id": "mAGiKUBrAob7"
   },
   "outputs": [],
   "source": [
    "tv = TfidfVectorizer(max_features=3500)\n",
    "X1 = tv.fit_transform(docs).toarray()"
   ]
  },
  {
   "cell_type": "code",
   "execution_count": 18,
   "metadata": {},
   "outputs": [],
   "source": [
    "X_train1, X_test1, y_train1, y_test1 = train_test_split(X1, y, test_size = 0.20, random_state = 0)"
   ]
  },
  {
   "cell_type": "markdown",
   "metadata": {
    "id": "fTl7KxmzApGy"
   },
   "source": [
    "4.7 Define the Classification model (any one like NB, SVM or Random forest) train the model"
   ]
  },
  {
   "cell_type": "code",
   "execution_count": 19,
   "metadata": {
    "id": "Lf-_cY13AtXt"
   },
   "outputs": [],
   "source": [
    "tfidf_model = MultinomialNB().fit(X_train1, y_train1)"
   ]
  },
  {
   "cell_type": "markdown",
   "metadata": {
    "id": "21o3UFWuAxCU"
   },
   "source": [
    "4.8 - Classification metrics analysis"
   ]
  },
  {
   "cell_type": "code",
   "execution_count": 20,
   "metadata": {
    "id": "P1g_cW8-A4jS"
   },
   "outputs": [
    {
     "name": "stdout",
     "output_type": "stream",
     "text": [
      "Training performance\n",
      "Training accuracy score 0.841\n",
      "              precision    recall  f1-score   support\n",
      "\n",
      "           0       0.86      0.82      0.84     19965\n",
      "           1       0.83      0.87      0.85     20035\n",
      "\n",
      "    accuracy                           0.84     40000\n",
      "   macro avg       0.84      0.84      0.84     40000\n",
      "weighted avg       0.84      0.84      0.84     40000\n",
      "\n",
      "confusion_matrix [[16284  3681]\n",
      " [ 2665 17370]]\n"
     ]
    },
    {
     "data": {
      "text/plain": [
       "<AxesSubplot:>"
      ]
     },
     "execution_count": 20,
     "metadata": {},
     "output_type": "execute_result"
    },
    {
     "data": {
      "image/png": "[encoded data removed]",
      "text/plain": [
       "<Figure size 432x288 with 2 Axes>"
      ]
     },
     "metadata": {
      "needs_background": "light"
     },
     "output_type": "display_data"
    }
   ],
   "source": [
    "# training data performance metrics\n",
    "ypred_train1=review_classify_model.predict(X_train1)\n",
    "print(\"Training performance\")\n",
    "print(\"Training accuracy score %.3f\" % accuracy_score(y_train1,ypred_train1))\n",
    "print(classification_report(y_train1,ypred_train1))\n",
    "print('confusion_matrix',confusion_matrix(y_train1,ypred_train1))\n",
    "sns.heatmap(confusion_matrix(y_train1,ypred_train1),annot=True,fmt=\".4g\")"
   ]
  },
  {
   "cell_type": "code",
   "execution_count": 21,
   "metadata": {},
   "outputs": [
    {
     "name": "stdout",
     "output_type": "stream",
     "text": [
      "Testing performance\n",
      "Testing accuracy score 0.829\n",
      "              precision    recall  f1-score   support\n",
      "\n",
      "           0       0.85      0.80      0.83      5035\n",
      "           1       0.81      0.85      0.83      4965\n",
      "\n",
      "    accuracy                           0.83     10000\n",
      "   macro avg       0.83      0.83      0.83     10000\n",
      "weighted avg       0.83      0.83      0.83     10000\n",
      "\n",
      "confusion_matrix [[4048  987]\n",
      " [ 727 4238]]\n"
     ]
    },
    {
     "data": {
      "text/plain": [
       "<AxesSubplot:>"
      ]
     },
     "execution_count": 21,
     "metadata": {},
     "output_type": "execute_result"
    },
    {
     "data": {
      "image/png": "[encoded data removed]",
      "text/plain": [
       "<Figure size 432x288 with 2 Axes>"
      ]
     },
     "metadata": {
      "needs_background": "light"
     },
     "output_type": "display_data"
    }
   ],
   "source": [
    "# testing accuarcy\n",
    "\n",
    "ypred_test1=review_classify_model.predict(X_test1)\n",
    "\n",
    "print(\"Testing performance\")\n",
    "print(\"Testing accuracy score %.3f\" % accuracy_score(y_test1,ypred_test1))\n",
    "print(classification_report(y_test1,ypred_test1))\n",
    "print('confusion_matrix',confusion_matrix(y_test1,ypred_test1))\n",
    "sns.heatmap(confusion_matrix(y_test1,ypred_test1),annot=True,fmt=\".4g\")"
   ]
  },
  {
   "cell_type": "markdown",
   "metadata": {},
   "source": [
    "Inference:\n",
    "    \n",
    "    In train data 86% cases where model has predicted the reviews as negative sentiment were correct and 83% cases where model has predicted the reviews as positive sentiment were correct.\n",
    "    \n",
    "    In test data 85% cases where model has predicted the reviews as negative sentiment were correct and 81% cases where model has predicted the reviews as positive sentiment were correct.\n",
    "    \n",
    "    Using the confusion matrix, True positive, False Positive,True Negative, False Negative  can be extracted.\n",
    "    \n",
    "    Accuracy score seems to be good in both training and testing data and it is good model. There is no overfitting and             underfitting model issue.\n",
    "    \n",
    "    Both train and test data have nearly same accuracy level of 0.83.\n",
    "    "
   ]
  },
  {
   "cell_type": "markdown",
   "metadata": {},
   "source": [
    "Using Count vectorizer and Tfidf vectorizer, both model gives almost same level of accuracy."
   ]
  },
  {
   "cell_type": "markdown",
   "metadata": {
    "id": "-_4qT-lVA42c"
   },
   "source": [
    "4.9 - predict the class for your own review"
   ]
  },
  {
   "cell_type": "code",
   "execution_count": 17,
   "metadata": {
    "id": "OcCXMXZhA5g6"
   },
   "outputs": [
    {
     "name": "stdout",
     "output_type": "stream",
     "text": [
      "# Natural Language Processing - CT3 Project\n",
      "## Fake news identification- Total marks (30)\n",
      "### About the data set \n",
      "\n",
      "\n",
      "\n",
      "A full  dataset with the following attributes:\n",
      "\n",
      "\n",
      "\n",
      "\n",
      "\n",
      "####  data:\n",
      "\n",
      "**id:**  unique id for a news article<br>\n",
      "\n",
      "**title:** the title of a news article <br> \n",
      "\n",
      "**author:**  author of the news article<br>\n",
      "\n",
      "**text:** the text of the article; could be incomplete<br>\n",
      "\n",
      "\n",
      "\n",
      "\n",
      "\n",
      "**label** - (Output variable) a label that marks the article as potentially unreliable <br>\n",
      "\n",
      "1: unreliable <br>\n",
      "\n",
      "0: reliable\n",
      "\n",
      "\n",
      "\n",
      "\n",
      "\n",
      "Note: Remove the unneccssary data like description\n",
      "# Table of Content\n",
      "\n",
      "\n",
      "\n",
      "1. Data Preprocessing - **2 Marks**\n",
      "\n",
      "2. Feature extraction - **3 Marks**\n",
      "\n",
      "3. Design a LSTM Model - **5 Marks**\n",
      "\n",
      "4. Test the Model - own data - **3 Marks**\n",
      "\n",
      "5. Build the following models <br>\n",
      "\n",
      "   Design Bideirectional LSTM - **5 Marks**<br>\n",
      "\n",
      "   Design RNN (2 Layers) - **5 Marks**\n",
      "\n",
      "6. Compare the Results of all above models - **2 Marks**\n",
      "\n",
      "7. Intrepret your solution based on the results - **5 Marks**\n",
      "\n",
      "<a id=\"logreg\"> </a>\n",
      "\n",
      "## 1. Data Pre-Processing\n",
      "**Import the required libraries**\n",
      "import os\n",
      "\n",
      "from google.colab import drive\n",
      "\n",
      "#connecting to drive\n",
      "\n",
      "drive.mount('/content/gdrive')\n",
      "import pandas as pd\n",
      "\n",
      "import numpy as np\n",
      "\n",
      "import nltk\n",
      "\n",
      "import re\n",
      "\n",
      "from nltk.corpus import stopwords\n",
      "\n",
      "from nltk.stem.porter import PorterStemmer ##stemming purpose\n",
      "\n",
      "import tensorflow as tf\n",
      "\n",
      "from sklearn.feature_extraction.text import CountVectorizer\n",
      "\n",
      "from sklearn.model_selection import train_test_split\n",
      "\n",
      "from sklearn.metrics import confusion_matrix,accuracy_score,classification_report\n",
      "\n",
      "from sklearn import metrics\n",
      "\n",
      "from keras.layers import Embedding\n",
      "\n",
      "from tensorflow.keras.preprocessing.sequence import pad_sequences\n",
      "\n",
      "from keras.models import Sequential\n",
      "\n",
      "from keras.preprocessing.text import one_hot\n",
      "\n",
      "from keras.layers import LSTM\n",
      "\n",
      "from keras.layers import Dense\n",
      "\n",
      "from keras.layers import Dropout\n",
      "\n",
      "from keras.layers import Bidirectional\n",
      "\n",
      "from keras.layers import SimpleRNN\n",
      "#### Load the csv file\n",
      "data = pd.read_csv(\"/content/gdrive/My Drive/NLP_CT3_news_data.csv\")\n",
      "\n",
      "data.head()\n",
      "<table align=\"left\">\n",
      "\n",
      "    <tr>\n",
      "\n",
      "        <td>\n",
      "\n",
      "            <div align=\"left\", style=\"font-size:120%\">\n",
      "\n",
      "                <font color=\"#21618C\">\n",
      "\n",
      "                    <b>Prepare the data </b>\n",
      "\n",
      "                </font>\n",
      "\n",
      "            </div>\n",
      "\n",
      "        </td>\n",
      "\n",
      "    </tr>\n",
      "\n",
      "</table>\n",
      "data.shape\n",
      "data.isnull().sum()\n",
      "###Drop Nan Values\n",
      "\n",
      "data=data.dropna()\n",
      " <table align=\"left\">\n",
      "\n",
      "    <tr>\n",
      "\n",
      "        <td>\n",
      "\n",
      "            <div align=\"left\", style=\"font-size:120%\">\n",
      "\n",
      "                <font color=\"#21618C\">\n",
      "\n",
      "                    <b>Separate the dependent and the independent variables. </b>\n",
      "\n",
      "                </font>\n",
      "\n",
      "            </div>\n",
      "\n",
      "        </td>\n",
      "\n",
      "    </tr>\n",
      "\n",
      "</table>\n",
      "X=data.drop('label',axis=1)\n",
      "y=data['label']\n",
      "X.shape,y.shape\n",
      "tf.__version__\n",
      "<table align=\"left\">\n",
      "\n",
      "    <tr>\n",
      "\n",
      "        <td>\n",
      "\n",
      "            <div align=\"left\", style=\"font-size:120%\">\n",
      "\n",
      "                <font color=\"#21618C\">\n",
      "\n",
      "                    <b>Perform an Text preprocessing tasks whichever is appropriate </b>\n",
      "\n",
      "                </font>\n",
      "\n",
      "            </div>\n",
      "\n",
      "        </td>\n",
      "\n",
      "    </tr>\n",
      "\n",
      "</table>\n",
      "nltk.download('stopwords')\n",
      "### Vocabulary size\n",
      "\n",
      "voc_size=5000\n",
      "messages=X.copy()\n",
      "messages['title'][1]\n",
      "messages\n",
      "messages.reset_index(inplace=True)\n",
      "### Dataset Preprocessing\n",
      "\n",
      "#from nltk.stem.porter import PorterStemmer ##stemming purpose\n",
      "\n",
      "ps = PorterStemmer()\n",
      "\n",
      "corpus = []\n",
      "\n",
      "for i in range(0, len(messages)):\n",
      "\n",
      "    review = re.sub('[^a-zA-Z]', ' ', messages['title'][i])\n",
      "\n",
      "    review = review.lower()\n",
      "\n",
      "    review = review.split()\n",
      "\n",
      "    \n",
      "\n",
      "    review = [ps.stem(word) for word in review if not word in stopwords.words('english')]\n",
      "\n",
      "    review = ' '.join(review)\n",
      "\n",
      "    corpus.append(review)\n",
      "\n",
      "corpus\n",
      "<table align=\"left\">\n",
      "\n",
      "    <tr>\n",
      "\n",
      "        <td>\n",
      "\n",
      "            <div align=\"left\", style=\"font-size:120%\">\n",
      "\n",
      "                <font color=\"#21618C\">\n",
      "\n",
      "                    <b>Print the first ten records of  data.</b>\n",
      "\n",
      "                </font>\n",
      "\n",
      "            </div>\n",
      "\n",
      "        </td>\n",
      "\n",
      "    </tr>\n",
      "\n",
      "</table>\n",
      "messages.head(10)\n",
      "<a id=\"logreg\"> </a>\n",
      "\n",
      "## 2. Feature Extraction - Do count vectorizer and pad sequence <br> use maximum features as 2000\n",
      "cv = CountVectorizer(max_features=2000)\n",
      "\n",
      "X = cv.fit_transform(corpus).toarray()\n",
      "X.shape,y.shape\n",
      "sent_length=100\n",
      "embedded_docs=pad_sequences(X,padding='post',maxlen=sent_length)\n",
      "\n",
      "X_final=np.array(embedded_docs)\n",
      "\n",
      "y_final=np.array(y)\n",
      "Split the training and testing data\n",
      "X_train, X_test, y_train, y_test = train_test_split(X_final,y_final, test_size=0.25, random_state=42)\n",
      "<table align=\"left\">\n",
      "\n",
      "    <tr>\n",
      "\n",
      "        <td>\n",
      "\n",
      "            <div align=\"left\", style=\"font-size:120%\">\n",
      "\n",
      "                <font color=\"#21618C\">\n",
      "\n",
      "                    <b>Print the shape of both features and label:<br> \n",
      "\n",
      "                        \n",
      "\n",
      "                \n",
      "\n",
      "</table>\n",
      "X_train.shape,X_test.shape,y_train.shape,y_test.shape\n",
      "## 3.Design a LSTM Model \n",
      "\n",
      "## Creating model\n",
      "\n",
      "embedding_vector_features=40\n",
      "\n",
      "model=Sequential()\n",
      "\n",
      "model.add(Embedding(voc_size,embedding_vector_features,input_length=sent_length))\n",
      "\n",
      "model.add(Dropout(0.3))\n",
      "\n",
      "model.add(LSTM(100))\n",
      "\n",
      "model.add(Dropout(0.3))\n",
      "\n",
      "model.add(Dense(1,activation='sigmoid'))\n",
      "\n",
      "model.compile(loss='binary_crossentropy',optimizer='adam',metrics=['accuracy'])\n",
      "print  the model summary\n",
      "print(model.summary())\n",
      "Train the model\n",
      "model.fit(X_train,y_train,validation_data=(X_test,y_test),epochs=10,batch_size=64)\n",
      "Validate the model\n",
      "y_pred=model.predict(X_test)\n",
      "\n",
      "y_pred=np.where(y_pred > 0.6, 1,0) ##AUC ROC Curve\n",
      "\n",
      "confusion_matrix(y_test,y_pred)\n",
      "accuracy_score(y_test,y_pred)\n",
      "print(classification_report(y_test,y_pred))\n",
      "## 4.Test the model with your own example.\n",
      "\n",
      "\n",
      "\n",
      "test_message=data['title'][3]\n",
      "test_message\n",
      "#Preprocessing test message\n",
      "\n",
      "ps = PorterStemmer()\n",
      "\n",
      "test_corpus = []\n",
      "\n",
      "review = re.sub('[^a-zA-Z]', ' ', test_message)\n",
      "\n",
      "review = review.lower()\n",
      "\n",
      "review = review.split()\n",
      "\n",
      "    \n",
      "\n",
      "review = [ps.stem(word) for word in review if not word in stopwords.words('english')]\n",
      "\n",
      "review = ' '.join(review)\n",
      "\n",
      "test_corpus.append(review)\n",
      "test_corpus\n",
      "cv = CountVectorizer(max_features=2000)\n",
      "\n",
      "xtest = cv.fit_transform(test_corpus).toarray()\n",
      "xtest\n",
      "y_test_pred=model.predict(xtest)\n",
      "\n",
      "y_test_pred=np.where(y_pred > 0.6, 1,0)\n",
      "\n",
      "y_test_pred\n",
      "## 5.Build the model by using \n",
      "\n",
      "\n",
      "\n",
      "1.   Simple RNN with two layers\n",
      "\n",
      "2.   Bidirectional LSTM\n",
      "\n",
      "\n",
      "\n",
      "#Simple RNN with two layers\n",
      "\n",
      "\n",
      "\n",
      "## Creating model\n",
      "\n",
      "embedding_vector_features=40\n",
      "\n",
      "model_RNN=Sequential()\n",
      "\n",
      "model_RNN.add(Embedding(voc_size,embedding_vector_features,input_length=sent_length))\n",
      "\n",
      "model_RNN.add(Dropout(0.3))\n",
      "\n",
      "model_RNN.add(SimpleRNN(100, return_sequences=True))\n",
      "\n",
      "model_RNN.add(SimpleRNN(100))\n",
      "\n",
      "model_RNN.add(Dropout(0.3))\n",
      "\n",
      "model_RNN.add(Dense(1,activation='sigmoid'))\n",
      "\n",
      "model_RNN.compile(loss='binary_crossentropy',optimizer='adam',metrics=['accuracy'])\n",
      "#Bi-Directional LSTM\n",
      "\n",
      "model_bi=Sequential()\n",
      "\n",
      "model_bi.add(Embedding(voc_size,embedding_vector_features,input_length=sent_length))\n",
      "\n",
      "model_bi.add(Dropout(0.3))\n",
      "\n",
      "model_bi.add(Bidirectional(LSTM(100)))\n",
      "\n",
      "model_bi.add(Dropout(0.3))\n",
      "\n",
      "model_bi.add(Dense(1,activation='sigmoid'))\n",
      "\n",
      "model_bi.compile(loss='binary_crossentropy',optimizer='adam',metrics=['accuracy'])\n",
      "## 6. Compare the results of LSTM, RNN (two layers) and Bi-directional LSTM models \n",
      "Build the model using Bi-directional LSTM\n",
      "model_bi.fit(X_train,y_train,validation_data=(X_test,y_test),epochs=10,batch_size=64)\n",
      "y_pred_bi=model_bi.predict(X_test)\n",
      "\n",
      "y_pred_bi=np.where(y_pred_bi > 0.6, 1,0) ##AUC ROC Curve\n",
      "\n",
      "confusion_matrix(y_test,y_pred_bi)\n",
      "print(\"BI Accuracy\")\n",
      "\n",
      "accuracy_score(y_test,y_pred_bi)\n",
      "print(classification_report(y_test,y_pred_bi))\n",
      "Build the model using Simple RNN (2 layers)\n",
      "model_RNN.fit(X_train,y_train,validation_data=(X_test,y_test),epochs=10,batch_size=64)\n",
      "y_pred_RNN=model_RNN.predict(X_test)\n",
      "\n",
      "y_pred_RNN=np.where(y_pred_RNN > 0.6, 1,0) ##AUC ROC Curve\n",
      "\n",
      "confusion_matrix(y_test,y_pred_RNN)\n",
      "\n",
      "print(\"RNN Accuracy\")\n",
      "\n",
      "accuracy_score(y_test,y_pred_RNN)\n",
      "print(classification_report(y_test,y_pred_RNN))\n",
      "\n",
      "## 7. Intrepret your solution based on the results\n",
      "All the 3 models such as LSTM, Bi-directional LSTM,Simple RNN are having both training data accuracy and validation data accuracy as 76%. All the models performing better for predicting the fake news but also predicting the real news as fake news  We can see only 65% real news were predicting correctly as real news. Similary around 95% fake news were predicted correctly in all the 3 models.\n",
      "\n"
     ]
    }
   ],
   "source": [
    "#importing necessary libraries\n",
    "import requests\n",
    "import json\n",
    "\n",
    "#url of the ipynb file  \n",
    "url = 'https://raw.githubusercontent.com/aakashsuresh77/NLP/main/nlp3.ipynb'\n",
    "\n",
    "#requesting the content from the url\n",
    "r = requests.get(url)\n",
    "\n",
    "#loading the content into json\n",
    "data = json.loads(r.content)\n",
    "\n",
    "#printing the code\n",
    "for cells in data['cells']:\n",
    "    for cell in cells['source']:\n",
    "        print(cell)"
   ]
  },
  {
   "cell_type": "code",
   "execution_count": 14,
   "metadata": {},
   "outputs": [
    {
     "name": "stdout",
     "output_type": "stream",
     "text": [
      "stem of the word 'flying' is: class\n",
      "stem of the word 'happiness' is: happi\n",
      "lemmatization of the word 'flying' is: class\n",
      "lemmatization of the word 'happiness' is: happiness\n"
     ]
    }
   ],
   "source": [
    "\n",
    "from nltk.stem import PorterStemmer\n",
    "stemmer = PorterStemmer()\n",
    "\n",
    "#example1\n",
    "word1 = \"classes\"\n",
    "stem1 = stemmer.stem(word1)\n",
    "print(\"stem of the word 'flying' is:\",stem1)\n",
    "\n",
    "#example2\n",
    "word2 = \"happiness\"\n",
    "stem2 = stemmer.stem(word2)\n",
    "print(\"stem of the word 'happiness' is:\",stem2)\n",
    "\n",
    "\n",
    "from nltk.stem import WordNetLemmatizer \n",
    "lemmatizer = WordNetLemmatizer() \n",
    "\n",
    "#example1\n",
    "word1 = \"classes\"\n",
    "lem1 = lemmatizer.lemmatize(word1)\n",
    "print(\"lemmatization of the word 'flying' is:\",lem1)\n",
    "\n",
    "#example2\n",
    "word2 = \"happiness\"\n",
    "lem2 = lemmatizer.lemmatize(word2)\n",
    "print(\"lemmatization of the word 'happiness' is:\",lem2)"
   ]
  },
  {
   "cell_type": "code",
   "execution_count": null,
   "metadata": {},
   "outputs": [],
   "source": []
  }
 ],
 "metadata": {
  "colab": {
   "provenance": [
    {
     "file_id": "11Whz9PBMyIm6ScAK1sUAuKZhlSwOIoIK",
     "timestamp": 1665466111274
    }
   ]
  },
  "kernelspec": {
   "display_name": "Python 3 (ipykernel)",
   "language": "python",
   "name": "python3"
  },
  "language_info": {
   "codemirror_mode": {
    "name": "ipython",
    "version": 3
   },
   "file_extension": ".py",
   "mimetype": "text/x-python",
   "name": "python",
   "nbconvert_exporter": "python",
   "pygments_lexer": "ipython3",
   "version": "3.10.5"
  }
 },
 "nbformat": 4,
 "nbformat_minor": 1
}
