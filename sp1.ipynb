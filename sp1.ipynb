{
 "cells": [
  {
   "cell_type": "code",
   "execution_count": 2,
   "metadata": {
    "_cell_guid": "b1076dfc-b9ad-4769-8c92-a6c4dae69d19",
    "_uuid": "8f2839f25d086af736a60e9eeb907d3b93b6e0e5",
    "execution": {
     "iopub.execute_input": "2023-01-21T13:40:03.696699Z",
     "iopub.status.busy": "2023-01-21T13:40:03.696302Z",
     "iopub.status.idle": "2023-01-21T13:40:03.706538Z",
     "shell.execute_reply": "2023-01-21T13:40:03.705079Z",
     "shell.execute_reply.started": "2023-01-21T13:40:03.696667Z"
    }
   },
   "outputs": [
    {
     "name": "stdout",
     "output_type": "stream",
     "text": [
      "/kaggle/input/movie-review/Movie_reviews.csv\n"
     ]
    }
   ],
   "source": [
    "# This Python 3 environment comes with many helpful analytics libraries installed\n",
    "# It is defined by the kaggle/python Docker image: https://github.com/kaggle/docker-python\n",
    "# For example, here's several helpful packages to load\n",
    "\n",
    "import numpy as np # linear algebra\n",
    "import pandas as pd # data processing, CSV file I/O (e.g. pd.read_csv)\n",
    "\n",
    "# Input data files are available in the read-only \"../input/\" directory\n",
    "# For example, running this (by clicking run or pressing Shift+Enter) will list all files under the input directory\n",
    "\n",
    "import os\n",
    "for dirname, _, filenames in os.walk('/kaggle/input'):\n",
    "    for filename in filenames:\n",
    "        print(os.path.join(dirname, filename))\n",
    "\n",
    "# You can write up to 20GB to the current directory (/kaggle/working/) that gets preserved as output when you create a version using \"Save & Run All\" \n",
    "# You can also write temporary files to /kaggle/temp/, but they won't be saved outside of the current session"
   ]
  },
  {
   "cell_type": "code",
   "execution_count": 30,
   "metadata": {
    "execution": {
     "iopub.execute_input": "2023-01-21T13:48:53.232184Z",
     "iopub.status.busy": "2023-01-21T13:48:53.231496Z",
     "iopub.status.idle": "2023-01-21T13:48:53.239858Z",
     "shell.execute_reply": "2023-01-21T13:48:53.238220Z",
     "shell.execute_reply.started": "2023-01-21T13:48:53.232146Z"
    }
   },
   "outputs": [],
   "source": [
    "import pandas as pd\n",
    "import numpy as np\n",
    "import nltk\n",
    "import re\n",
    "from nltk.corpus import stopwords\n",
    "from nltk.stem.porter import PorterStemmer ##stemming purpose\n",
    "import tensorflow as tf\n",
    "from sklearn.model_selection import train_test_split\n",
    "from sklearn.metrics import confusion_matrix,accuracy_score,classification_report\n",
    "from sklearn import metrics\n",
    "from six import string_types\n",
    "from string import punctuation\n",
    "from nltk import word_tokenize\n",
    "from gensim.parsing.preprocessing import remove_stopwords,PorterStemmer\n",
    "from sklearn.feature_extraction.text import CountVectorizer, TfidfVectorizer\n",
    "from bs4 import BeautifulSoup\n",
    "from sklearn.naive_bayes import MultinomialNB\n",
    "import seaborn as sns\n",
    "import warnings\n",
    "warnings.filterwarnings('ignore')\n",
    "from sklearn.ensemble import RandomForestClassifier"
   ]
  },
  {
   "cell_type": "code",
   "execution_count": 6,
   "metadata": {
    "execution": {
     "iopub.execute_input": "2023-01-21T13:40:16.974072Z",
     "iopub.status.busy": "2023-01-21T13:40:16.973435Z",
     "iopub.status.idle": "2023-01-21T13:40:17.741598Z",
     "shell.execute_reply": "2023-01-21T13:40:17.740442Z",
     "shell.execute_reply.started": "2023-01-21T13:40:16.974027Z"
    }
   },
   "outputs": [],
   "source": [
    "movie_reviews=pd.read_csv('/kaggle/input/movie-review/Movie_reviews.csv')"
   ]
  },
  {
   "cell_type": "code",
   "execution_count": 7,
   "metadata": {
    "execution": {
     "iopub.execute_input": "2023-01-21T13:40:20.529814Z",
     "iopub.status.busy": "2023-01-21T13:40:20.529334Z",
     "iopub.status.idle": "2023-01-21T13:40:20.551446Z",
     "shell.execute_reply": "2023-01-21T13:40:20.550512Z",
     "shell.execute_reply.started": "2023-01-21T13:40:20.529771Z"
    }
   },
   "outputs": [
    {
     "data": {
      "text/html": [
       "<div>\n",
       "<style scoped>\n",
       "    .dataframe tbody tr th:only-of-type {\n",
       "        vertical-align: middle;\n",
       "    }\n",
       "\n",
       "    .dataframe tbody tr th {\n",
       "        vertical-align: top;\n",
       "    }\n",
       "\n",
       "    .dataframe thead th {\n",
       "        text-align: right;\n",
       "    }\n",
       "</style>\n",
       "<table border=\"1\" class=\"dataframe\">\n",
       "  <thead>\n",
       "    <tr style=\"text-align: right;\">\n",
       "      <th></th>\n",
       "      <th>review</th>\n",
       "      <th>sentiment</th>\n",
       "    </tr>\n",
       "  </thead>\n",
       "  <tbody>\n",
       "    <tr>\n",
       "      <th>0</th>\n",
       "      <td>One of the other reviewers has mentioned that ...</td>\n",
       "      <td>positive</td>\n",
       "    </tr>\n",
       "    <tr>\n",
       "      <th>1</th>\n",
       "      <td>A wonderful little production. &lt;br /&gt;&lt;br /&gt;The...</td>\n",
       "      <td>positive</td>\n",
       "    </tr>\n",
       "    <tr>\n",
       "      <th>2</th>\n",
       "      <td>I thought this was a wonderful way to spend ti...</td>\n",
       "      <td>positive</td>\n",
       "    </tr>\n",
       "    <tr>\n",
       "      <th>3</th>\n",
       "      <td>Basically there's a family where a little boy ...</td>\n",
       "      <td>negative</td>\n",
       "    </tr>\n",
       "    <tr>\n",
       "      <th>4</th>\n",
       "      <td>Petter Mattei's \"Love in the Time of Money\" is...</td>\n",
       "      <td>positive</td>\n",
       "    </tr>\n",
       "  </tbody>\n",
       "</table>\n",
       "</div>"
      ],
      "text/plain": [
       "                                              review sentiment\n",
       "0  One of the other reviewers has mentioned that ...  positive\n",
       "1  A wonderful little production. <br /><br />The...  positive\n",
       "2  I thought this was a wonderful way to spend ti...  positive\n",
       "3  Basically there's a family where a little boy ...  negative\n",
       "4  Petter Mattei's \"Love in the Time of Money\" is...  positive"
      ]
     },
     "execution_count": 7,
     "metadata": {},
     "output_type": "execute_result"
    }
   ],
   "source": [
    "movie_reviews.head()"
   ]
  },
  {
   "cell_type": "code",
   "execution_count": 8,
   "metadata": {
    "execution": {
     "iopub.execute_input": "2023-01-21T13:40:24.189686Z",
     "iopub.status.busy": "2023-01-21T13:40:24.189297Z",
     "iopub.status.idle": "2023-01-21T13:40:24.220959Z",
     "shell.execute_reply": "2023-01-21T13:40:24.219791Z",
     "shell.execute_reply.started": "2023-01-21T13:40:24.189655Z"
    }
   },
   "outputs": [
    {
     "name": "stdout",
     "output_type": "stream",
     "text": [
      "<class 'pandas.core.frame.DataFrame'>\n",
      "RangeIndex: 50000 entries, 0 to 49999\n",
      "Data columns (total 2 columns):\n",
      " #   Column     Non-Null Count  Dtype \n",
      "---  ------     --------------  ----- \n",
      " 0   review     50000 non-null  object\n",
      " 1   sentiment  50000 non-null  object\n",
      "dtypes: object(2)\n",
      "memory usage: 781.4+ KB\n"
     ]
    }
   ],
   "source": [
    "movie_reviews.info()"
   ]
  },
  {
   "cell_type": "code",
   "execution_count": 9,
   "metadata": {
    "execution": {
     "iopub.execute_input": "2023-01-21T13:40:27.270741Z",
     "iopub.status.busy": "2023-01-21T13:40:27.270364Z",
     "iopub.status.idle": "2023-01-21T13:40:27.289926Z",
     "shell.execute_reply": "2023-01-21T13:40:27.288892Z",
     "shell.execute_reply.started": "2023-01-21T13:40:27.270708Z"
    }
   },
   "outputs": [
    {
     "data": {
      "text/html": [
       "<div>\n",
       "<style scoped>\n",
       "    .dataframe tbody tr th:only-of-type {\n",
       "        vertical-align: middle;\n",
       "    }\n",
       "\n",
       "    .dataframe tbody tr th {\n",
       "        vertical-align: top;\n",
       "    }\n",
       "\n",
       "    .dataframe thead th {\n",
       "        text-align: right;\n",
       "    }\n",
       "</style>\n",
       "<table border=\"1\" class=\"dataframe\">\n",
       "  <thead>\n",
       "    <tr style=\"text-align: right;\">\n",
       "      <th></th>\n",
       "      <th>positive</th>\n",
       "    </tr>\n",
       "  </thead>\n",
       "  <tbody>\n",
       "    <tr>\n",
       "      <th>0</th>\n",
       "      <td>1</td>\n",
       "    </tr>\n",
       "    <tr>\n",
       "      <th>1</th>\n",
       "      <td>1</td>\n",
       "    </tr>\n",
       "    <tr>\n",
       "      <th>2</th>\n",
       "      <td>1</td>\n",
       "    </tr>\n",
       "    <tr>\n",
       "      <th>3</th>\n",
       "      <td>0</td>\n",
       "    </tr>\n",
       "    <tr>\n",
       "      <th>4</th>\n",
       "      <td>1</td>\n",
       "    </tr>\n",
       "    <tr>\n",
       "      <th>...</th>\n",
       "      <td>...</td>\n",
       "    </tr>\n",
       "    <tr>\n",
       "      <th>49995</th>\n",
       "      <td>1</td>\n",
       "    </tr>\n",
       "    <tr>\n",
       "      <th>49996</th>\n",
       "      <td>0</td>\n",
       "    </tr>\n",
       "    <tr>\n",
       "      <th>49997</th>\n",
       "      <td>0</td>\n",
       "    </tr>\n",
       "    <tr>\n",
       "      <th>49998</th>\n",
       "      <td>0</td>\n",
       "    </tr>\n",
       "    <tr>\n",
       "      <th>49999</th>\n",
       "      <td>0</td>\n",
       "    </tr>\n",
       "  </tbody>\n",
       "</table>\n",
       "<p>50000 rows × 1 columns</p>\n",
       "</div>"
      ],
      "text/plain": [
       "       positive\n",
       "0             1\n",
       "1             1\n",
       "2             1\n",
       "3             0\n",
       "4             1\n",
       "...         ...\n",
       "49995         1\n",
       "49996         0\n",
       "49997         0\n",
       "49998         0\n",
       "49999         0\n",
       "\n",
       "[50000 rows x 1 columns]"
      ]
     },
     "execution_count": 9,
     "metadata": {},
     "output_type": "execute_result"
    }
   ],
   "source": [
    "y=pd.get_dummies(movie_reviews['sentiment'],drop_first=True)\n",
    "y"
   ]
  },
  {
   "cell_type": "code",
   "execution_count": 10,
   "metadata": {
    "execution": {
     "iopub.execute_input": "2023-01-21T13:40:30.783404Z",
     "iopub.status.busy": "2023-01-21T13:40:30.783042Z",
     "iopub.status.idle": "2023-01-21T13:40:31.992804Z",
     "shell.execute_reply": "2023-01-21T13:40:31.991760Z",
     "shell.execute_reply.started": "2023-01-21T13:40:30.783373Z"
    }
   },
   "outputs": [
    {
     "data": {
      "text/plain": [
       "0        One of the other reviewers has mentioned that ...\n",
       "1        A wonderful little production The filming tech...\n",
       "2        I thought this was a wonderful way to spend ti...\n",
       "3        Basically theres a family where a little boy J...\n",
       "4        Petter Matteis Love in the Time of Money is a ...\n",
       "                               ...                        \n",
       "49995    I thought this movie did a down right good job...\n",
       "49996    Bad plot bad dialogue bad acting idiotic direc...\n",
       "49997    I am a Catholic taught in parochial elementary...\n",
       "49998    Im going to have to disagree with the previous...\n",
       "49999    No one expects the Star Trek movies to be high...\n",
       "Name: review, Length: 50000, dtype: object"
      ]
     },
     "execution_count": 10,
     "metadata": {},
     "output_type": "execute_result"
    }
   ],
   "source": [
    "##  remove special character and html tags\n",
    "reviews_html_removed=movie_reviews['review'].str.replace('<.*?>', '')\n",
    "messages = reviews_html_removed.str.replace('[^a-zA-Z\\s]', '')\n",
    "messages\n"
   ]
  },
  {
   "cell_type": "code",
   "execution_count": 11,
   "metadata": {
    "execution": {
     "iopub.execute_input": "2023-01-21T13:40:35.172127Z",
     "iopub.status.busy": "2023-01-21T13:40:35.170956Z",
     "iopub.status.idle": "2023-01-21T13:40:35.286629Z",
     "shell.execute_reply": "2023-01-21T13:40:35.285638Z",
     "shell.execute_reply.started": "2023-01-21T13:40:35.172084Z"
    }
   },
   "outputs": [
    {
     "data": {
      "text/plain": [
       "0        one of the other reviewers has mentioned that ...\n",
       "1        a wonderful little production the filming tech...\n",
       "2        i thought this was a wonderful way to spend ti...\n",
       "3        basically theres a family where a little boy j...\n",
       "4        petter matteis love in the time of money is a ...\n",
       "                               ...                        \n",
       "49995    i thought this movie did a down right good job...\n",
       "49996    bad plot bad dialogue bad acting idiotic direc...\n",
       "49997    i am a catholic taught in parochial elementary...\n",
       "49998    im going to have to disagree with the previous...\n",
       "49999    no one expects the star trek movies to be high...\n",
       "Name: review, Length: 50000, dtype: object"
      ]
     },
     "execution_count": 11,
     "metadata": {},
     "output_type": "execute_result"
    }
   ],
   "source": [
    "#Convert reviews into lowercase\n",
    "messages=messages.str.lower()\n",
    "messages"
   ]
  },
  {
   "cell_type": "code",
   "execution_count": 12,
   "metadata": {
    "execution": {
     "iopub.execute_input": "2023-01-21T13:40:38.523130Z",
     "iopub.status.busy": "2023-01-21T13:40:38.522446Z",
     "iopub.status.idle": "2023-01-21T13:40:40.376904Z",
     "shell.execute_reply": "2023-01-21T13:40:40.375775Z",
     "shell.execute_reply.started": "2023-01-21T13:40:38.523092Z"
    }
   },
   "outputs": [
    {
     "data": {
      "text/plain": [
       "0        reviewers mentioned watching oz episode youll ...\n",
       "1        wonderful little production filming technique ...\n",
       "2        thought wonderful way spend time hot summer we...\n",
       "3        basically theres family little boy jake thinks...\n",
       "4        petter matteis love time money visually stunni...\n",
       "                               ...                        \n",
       "49995    thought movie right good job wasnt creative or...\n",
       "49996    bad plot bad dialogue bad acting idiotic direc...\n",
       "49997    catholic taught parochial elementary schools n...\n",
       "49998    im going disagree previous comment maltin seco...\n",
       "49999    expects star trek movies high art fans expect ...\n",
       "Name: review, Length: 50000, dtype: object"
      ]
     },
     "execution_count": 12,
     "metadata": {},
     "output_type": "execute_result"
    }
   ],
   "source": [
    "#Removal of stop words\n",
    "docs = messages.apply(remove_stopwords)\n",
    "docs"
   ]
  },
  {
   "cell_type": "code",
   "execution_count": 13,
   "metadata": {
    "execution": {
     "iopub.execute_input": "2023-01-21T13:40:43.744923Z",
     "iopub.status.busy": "2023-01-21T13:40:43.744545Z",
     "iopub.status.idle": "2023-01-21T13:41:24.250374Z",
     "shell.execute_reply": "2023-01-21T13:41:24.249423Z",
     "shell.execute_reply.started": "2023-01-21T13:40:43.744893Z"
    }
   },
   "outputs": [],
   "source": [
    "#Apply stemming\n",
    "ps = PorterStemmer()\n",
    "docs = ps.stem_documents(docs)"
   ]
  },
  {
   "cell_type": "code",
   "execution_count": 14,
   "metadata": {
    "execution": {
     "iopub.execute_input": "2023-01-21T13:41:32.003192Z",
     "iopub.status.busy": "2023-01-21T13:41:32.002842Z",
     "iopub.status.idle": "2023-01-21T13:41:36.788072Z",
     "shell.execute_reply": "2023-01-21T13:41:36.787063Z",
     "shell.execute_reply.started": "2023-01-21T13:41:32.003163Z"
    }
   },
   "outputs": [],
   "source": [
    "#create BOW model\n",
    "cv = CountVectorizer(max_features=3500)\n",
    "X = cv.fit_transform(docs).toarray()"
   ]
  },
  {
   "cell_type": "code",
   "execution_count": 15,
   "metadata": {
    "execution": {
     "iopub.execute_input": "2023-01-21T13:41:54.478633Z",
     "iopub.status.busy": "2023-01-21T13:41:54.477454Z",
     "iopub.status.idle": "2023-01-21T13:41:54.486981Z",
     "shell.execute_reply": "2023-01-21T13:41:54.485908Z",
     "shell.execute_reply.started": "2023-01-21T13:41:54.478566Z"
    }
   },
   "outputs": [
    {
     "data": {
      "text/plain": [
       "((50000, 3500), (50000, 1))"
      ]
     },
     "execution_count": 15,
     "metadata": {},
     "output_type": "execute_result"
    }
   ],
   "source": [
    "X.shape,y.shape"
   ]
  },
  {
   "cell_type": "code",
   "execution_count": 16,
   "metadata": {
    "execution": {
     "iopub.execute_input": "2023-01-21T13:42:06.781726Z",
     "iopub.status.busy": "2023-01-21T13:42:06.781209Z",
     "iopub.status.idle": "2023-01-21T13:42:07.282792Z",
     "shell.execute_reply": "2023-01-21T13:42:07.281696Z",
     "shell.execute_reply.started": "2023-01-21T13:42:06.781683Z"
    }
   },
   "outputs": [],
   "source": [
    "X_train, X_test, y_train, y_test = train_test_split(X, y, test_size = 0.20, random_state = 0)"
   ]
  },
  {
   "cell_type": "code",
   "execution_count": 17,
   "metadata": {
    "execution": {
     "iopub.execute_input": "2023-01-21T13:42:28.116261Z",
     "iopub.status.busy": "2023-01-21T13:42:28.115895Z",
     "iopub.status.idle": "2023-01-21T13:42:29.848780Z",
     "shell.execute_reply": "2023-01-21T13:42:29.847656Z",
     "shell.execute_reply.started": "2023-01-21T13:42:28.116230Z"
    }
   },
   "outputs": [],
   "source": [
    "# Training model using Naive bayes classifier\n",
    "review_classify_model = MultinomialNB().fit(X_train, y_train)\n"
   ]
  },
  {
   "cell_type": "code",
   "execution_count": 18,
   "metadata": {
    "execution": {
     "iopub.execute_input": "2023-01-21T13:42:57.512031Z",
     "iopub.status.busy": "2023-01-21T13:42:57.511662Z",
     "iopub.status.idle": "2023-01-21T13:42:58.477527Z",
     "shell.execute_reply": "2023-01-21T13:42:58.476501Z",
     "shell.execute_reply.started": "2023-01-21T13:42:57.512000Z"
    }
   },
   "outputs": [
    {
     "name": "stdout",
     "output_type": "stream",
     "text": [
      "Training performance\n",
      "Training accuracy score 0.843\n",
      "              precision    recall  f1-score   support\n",
      "\n",
      "           0       0.84      0.85      0.84     19965\n",
      "           1       0.85      0.84      0.84     20035\n",
      "\n",
      "    accuracy                           0.84     40000\n",
      "   macro avg       0.84      0.84      0.84     40000\n",
      "weighted avg       0.84      0.84      0.84     40000\n",
      "\n",
      "confusion_matrix [[16917  3048]\n",
      " [ 3231 16804]]\n"
     ]
    },
    {
     "data": {
      "text/plain": [
       "<AxesSubplot:>"
      ]
     },
     "execution_count": 18,
     "metadata": {},
     "output_type": "execute_result"
    },
    {
     "data": {
      "image/png": "[encoded data removed]",
      "text/plain": [
       "<Figure size 432x288 with 2 Axes>"
      ]
     },
     "metadata": {
      "needs_background": "light"
     },
     "output_type": "display_data"
    }
   ],
   "source": [
    "# training data performance metrics\n",
    "ypred_train=review_classify_model.predict(X_train)\n",
    "print(\"Training performance\")\n",
    "print(\"Training accuracy score %.3f\" % accuracy_score(y_train,ypred_train))\n",
    "print(classification_report(y_train,ypred_train))\n",
    "print('confusion_matrix',confusion_matrix(y_train,ypred_train))\n",
    "sns.heatmap(confusion_matrix(y_train,ypred_train),annot=True,fmt=\".4g\")"
   ]
  },
  {
   "cell_type": "code",
   "execution_count": 19,
   "metadata": {
    "execution": {
     "iopub.execute_input": "2023-01-21T13:43:17.490477Z",
     "iopub.status.busy": "2023-01-21T13:43:17.490050Z",
     "iopub.status.idle": "2023-01-21T13:43:18.036742Z",
     "shell.execute_reply": "2023-01-21T13:43:18.035736Z",
     "shell.execute_reply.started": "2023-01-21T13:43:17.490443Z"
    }
   },
   "outputs": [
    {
     "name": "stdout",
     "output_type": "stream",
     "text": [
      "Testing performance\n",
      "Testing accuracy score 0.831\n",
      "              precision    recall  f1-score   support\n",
      "\n",
      "           0       0.83      0.84      0.83      5035\n",
      "           1       0.83      0.83      0.83      4965\n",
      "\n",
      "    accuracy                           0.83     10000\n",
      "   macro avg       0.83      0.83      0.83     10000\n",
      "weighted avg       0.83      0.83      0.83     10000\n",
      "\n",
      "confusion_matrix [[4214  821]\n",
      " [ 865 4100]]\n"
     ]
    },
    {
     "data": {
      "text/plain": [
       "<AxesSubplot:>"
      ]
     },
     "execution_count": 19,
     "metadata": {},
     "output_type": "execute_result"
    },
    {
     "data": {
      "image/png": "[encoded data removed]",
      "text/plain": [
       "<Figure size 432x288 with 2 Axes>"
      ]
     },
     "metadata": {
      "needs_background": "light"
     },
     "output_type": "display_data"
    }
   ],
   "source": [
    "# testing accuarcy\n",
    "\n",
    "ypred_test=review_classify_model.predict(X_test)\n",
    "\n",
    "print(\"Testing performance\")\n",
    "print(\"Testing accuracy score %.3f\" % accuracy_score(y_test,ypred_test))\n",
    "print(classification_report(y_test,ypred_test))\n",
    "print('confusion_matrix',confusion_matrix(y_test,ypred_test))\n",
    "sns.heatmap(confusion_matrix(y_test,ypred_test),annot=True,fmt=\".4g\")\n",
    "\n"
   ]
  },
  {
   "cell_type": "code",
   "execution_count": 24,
   "metadata": {
    "execution": {
     "iopub.execute_input": "2023-01-21T13:46:15.372740Z",
     "iopub.status.busy": "2023-01-21T13:46:15.372348Z",
     "iopub.status.idle": "2023-01-21T13:46:21.481173Z",
     "shell.execute_reply": "2023-01-21T13:46:21.480174Z",
     "shell.execute_reply.started": "2023-01-21T13:46:15.372707Z"
    }
   },
   "outputs": [],
   "source": [
    "#Using tfidf\n",
    "tv = TfidfVectorizer(max_features=3500)\n",
    "X1 = tv.fit_transform(docs).toarray()"
   ]
  },
  {
   "cell_type": "code",
   "execution_count": 25,
   "metadata": {
    "execution": {
     "iopub.execute_input": "2023-01-21T13:46:30.481413Z",
     "iopub.status.busy": "2023-01-21T13:46:30.481048Z",
     "iopub.status.idle": "2023-01-21T13:46:30.916206Z",
     "shell.execute_reply": "2023-01-21T13:46:30.915062Z",
     "shell.execute_reply.started": "2023-01-21T13:46:30.481380Z"
    }
   },
   "outputs": [],
   "source": [
    "X_train1, X_test1, y_train1, y_test1 = train_test_split(X1, y, test_size = 0.20, random_state = 0)"
   ]
  },
  {
   "cell_type": "code",
   "execution_count": 26,
   "metadata": {
    "execution": {
     "iopub.execute_input": "2023-01-21T13:46:34.573389Z",
     "iopub.status.busy": "2023-01-21T13:46:34.573036Z",
     "iopub.status.idle": "2023-01-21T13:46:34.969988Z",
     "shell.execute_reply": "2023-01-21T13:46:34.968499Z",
     "shell.execute_reply.started": "2023-01-21T13:46:34.573358Z"
    }
   },
   "outputs": [],
   "source": [
    "tfidf_model = MultinomialNB().fit(X_train1, y_train1)"
   ]
  },
  {
   "cell_type": "code",
   "execution_count": 27,
   "metadata": {
    "execution": {
     "iopub.execute_input": "2023-01-21T13:46:50.460775Z",
     "iopub.status.busy": "2023-01-21T13:46:50.460353Z",
     "iopub.status.idle": "2023-01-21T13:46:51.182515Z",
     "shell.execute_reply": "2023-01-21T13:46:51.181542Z",
     "shell.execute_reply.started": "2023-01-21T13:46:50.460734Z"
    }
   },
   "outputs": [
    {
     "name": "stdout",
     "output_type": "stream",
     "text": [
      "Training performance\n",
      "Training accuracy score 0.841\n",
      "              precision    recall  f1-score   support\n",
      "\n",
      "           0       0.86      0.82      0.84     19965\n",
      "           1       0.83      0.87      0.85     20035\n",
      "\n",
      "    accuracy                           0.84     40000\n",
      "   macro avg       0.84      0.84      0.84     40000\n",
      "weighted avg       0.84      0.84      0.84     40000\n",
      "\n",
      "confusion_matrix [[16284  3681]\n",
      " [ 2665 17370]]\n"
     ]
    },
    {
     "data": {
      "text/plain": [
       "<AxesSubplot:>"
      ]
     },
     "execution_count": 27,
     "metadata": {},
     "output_type": "execute_result"
    },
    {
     "data": {
      "image/png": "[encoded data removed]",
      "text/plain": [
       "<Figure size 432x288 with 2 Axes>"
      ]
     },
     "metadata": {
      "needs_background": "light"
     },
     "output_type": "display_data"
    }
   ],
   "source": [
    "# training data performance metrics\n",
    "ypred_train1=review_classify_model.predict(X_train1)\n",
    "print(\"Training performance\")\n",
    "print(\"Training accuracy score %.3f\" % accuracy_score(y_train1,ypred_train1))\n",
    "print(classification_report(y_train1,ypred_train1))\n",
    "print('confusion_matrix',confusion_matrix(y_train1,ypred_train1))\n",
    "sns.heatmap(confusion_matrix(y_train1,ypred_train1),annot=True,fmt=\".4g\")"
   ]
  },
  {
   "cell_type": "code",
   "execution_count": 28,
   "metadata": {
    "execution": {
     "iopub.execute_input": "2023-01-21T13:47:09.948654Z",
     "iopub.status.busy": "2023-01-21T13:47:09.948283Z",
     "iopub.status.idle": "2023-01-21T13:47:10.339478Z",
     "shell.execute_reply": "2023-01-21T13:47:10.338512Z",
     "shell.execute_reply.started": "2023-01-21T13:47:09.948602Z"
    }
   },
   "outputs": [
    {
     "name": "stdout",
     "output_type": "stream",
     "text": [
      "Testing performance\n",
      "Testing accuracy score 0.829\n",
      "              precision    recall  f1-score   support\n",
      "\n",
      "           0       0.85      0.80      0.83      5035\n",
      "           1       0.81      0.85      0.83      4965\n",
      "\n",
      "    accuracy                           0.83     10000\n",
      "   macro avg       0.83      0.83      0.83     10000\n",
      "weighted avg       0.83      0.83      0.83     10000\n",
      "\n",
      "confusion_matrix [[4048  987]\n",
      " [ 727 4238]]\n"
     ]
    },
    {
     "data": {
      "text/plain": [
       "<AxesSubplot:>"
      ]
     },
     "execution_count": 28,
     "metadata": {},
     "output_type": "execute_result"
    },
    {
     "data": {
      "image/png": "[encoded data removed]",
      "text/plain": [
       "<Figure size 432x288 with 2 Axes>"
      ]
     },
     "metadata": {
      "needs_background": "light"
     },
     "output_type": "display_data"
    }
   ],
   "source": [
    "# testing accuarcy\n",
    "\n",
    "ypred_test1=review_classify_model.predict(X_test1)\n",
    "\n",
    "print(\"Testing performance\")\n",
    "print(\"Testing accuracy score %.3f\" % accuracy_score(y_test1,ypred_test1))\n",
    "print(classification_report(y_test1,ypred_test1))\n",
    "print('confusion_matrix',confusion_matrix(y_test1,ypred_test1))\n",
    "sns.heatmap(confusion_matrix(y_test1,ypred_test1),annot=True,fmt=\".4g\")"
   ]
  },
  {
   "cell_type": "code",
   "execution_count": 32,
   "metadata": {
    "execution": {
     "iopub.execute_input": "2023-01-21T13:52:34.036197Z",
     "iopub.status.busy": "2023-01-21T13:52:34.035788Z",
     "iopub.status.idle": "2023-01-21T13:53:06.350723Z",
     "shell.execute_reply": "2023-01-21T13:53:06.349734Z",
     "shell.execute_reply.started": "2023-01-21T13:52:34.036164Z"
    }
   },
   "outputs": [
    {
     "data": {
      "text/plain": [
       "RandomForestClassifier(n_estimators=50, random_state=40)"
      ]
     },
     "execution_count": 32,
     "metadata": {},
     "output_type": "execute_result"
    }
   ],
   "source": [
    "rf=RandomForestClassifier(n_estimators=50,random_state=40)\n",
    "rf.fit(X_train,y_train)\n"
   ]
  },
  {
   "cell_type": "code",
   "execution_count": 33,
   "metadata": {
    "execution": {
     "iopub.execute_input": "2023-01-21T13:54:14.935291Z",
     "iopub.status.busy": "2023-01-21T13:54:14.934937Z",
     "iopub.status.idle": "2023-01-21T13:54:16.835508Z",
     "shell.execute_reply": "2023-01-21T13:54:16.834501Z",
     "shell.execute_reply.started": "2023-01-21T13:54:14.935262Z"
    }
   },
   "outputs": [
    {
     "name": "stdout",
     "output_type": "stream",
     "text": [
      "Training performance\n",
      "Training accuracy score 1.000\n",
      "              precision    recall  f1-score   support\n",
      "\n",
      "           0       1.00      1.00      1.00     19965\n",
      "           1       1.00      1.00      1.00     20035\n",
      "\n",
      "    accuracy                           1.00     40000\n",
      "   macro avg       1.00      1.00      1.00     40000\n",
      "weighted avg       1.00      1.00      1.00     40000\n",
      "\n",
      "confusion_matrix [[19964     1]\n",
      " [    1 20034]]\n"
     ]
    },
    {
     "data": {
      "text/plain": [
       "<AxesSubplot:>"
      ]
     },
     "execution_count": 33,
     "metadata": {},
     "output_type": "execute_result"
    },
    {
     "data": {
      "image/png": "[encoded data removed]",
      "text/plain": [
       "<Figure size 432x288 with 2 Axes>"
      ]
     },
     "metadata": {
      "needs_background": "light"
     },
     "output_type": "display_data"
    }
   ],
   "source": [
    "# training data performance metrics\n",
    "ypred_train=rf.predict(X_train)\n",
    "print(\"Training performance\")\n",
    "print(\"Training accuracy score %.3f\" % accuracy_score(y_train,ypred_train))\n",
    "print(classification_report(y_train,ypred_train))\n",
    "print('confusion_matrix',confusion_matrix(y_train,ypred_train))\n",
    "sns.heatmap(confusion_matrix(y_train,ypred_train),annot=True,fmt=\".4g\")"
   ]
  },
  {
   "cell_type": "code",
   "execution_count": 35,
   "metadata": {
    "execution": {
     "iopub.execute_input": "2023-01-21T13:55:11.768648Z",
     "iopub.status.busy": "2023-01-21T13:55:11.768263Z",
     "iopub.status.idle": "2023-01-21T13:55:12.435702Z",
     "shell.execute_reply": "2023-01-21T13:55:12.434680Z",
     "shell.execute_reply.started": "2023-01-21T13:55:11.768592Z"
    }
   },
   "outputs": [
    {
     "name": "stdout",
     "output_type": "stream",
     "text": [
      "Testing performance\n",
      "Testing accuracy score 0.831\n",
      "              precision    recall  f1-score   support\n",
      "\n",
      "           0       0.82      0.85      0.84      5035\n",
      "           1       0.84      0.81      0.83      4965\n",
      "\n",
      "    accuracy                           0.83     10000\n",
      "   macro avg       0.83      0.83      0.83     10000\n",
      "weighted avg       0.83      0.83      0.83     10000\n",
      "\n",
      "confusion_matrix [[4278  757]\n",
      " [ 932 4033]]\n"
     ]
    },
    {
     "data": {
      "text/plain": [
       "<AxesSubplot:>"
      ]
     },
     "execution_count": 35,
     "metadata": {},
     "output_type": "execute_result"
    },
    {
     "data": {
      "image/png": "[encoded data removed]",
      "text/plain": [
       "<Figure size 432x288 with 2 Axes>"
      ]
     },
     "metadata": {
      "needs_background": "light"
     },
     "output_type": "display_data"
    }
   ],
   "source": [
    " #testing accuarcy\n",
    "\n",
    "ypred_test=rf.predict(X_test)\n",
    "\n",
    "print(\"Testing performance\")\n",
    "print(\"Testing accuracy score %.3f\" % accuracy_score(y_test,ypred_test))\n",
    "print(classification_report(y_test,ypred_test))\n",
    "print('confusion_matrix',confusion_matrix(y_test,ypred_test))\n",
    "sns.heatmap(confusion_matrix(y_test,ypred_test),annot=True,fmt=\".4g\")\n",
    "\n"
   ]
  }
 ],
 "metadata": {
  "kernelspec": {
   "display_name": "Python 3 (ipykernel)",
   "language": "python",
   "name": "python3"
  },
  "language_info": {
   "codemirror_mode": {
    "name": "ipython",
    "version": 3
   },
   "file_extension": ".py",
   "mimetype": "text/x-python",
   "name": "python",
   "nbconvert_exporter": "python",
   "pygments_lexer": "ipython3",
   "version": "3.9.12"
  }
 },
 "nbformat": 4,
 "nbformat_minor": 4
}
